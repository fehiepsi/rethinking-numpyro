{
 "cells": [
  {
   "cell_type": "markdown",
   "metadata": {
    "navigation": true
   },
   "source": [
    "<!-- NAVIGATION -->\n",
    "< [Chapter 9. Markov Chain Monte Carlo](09-markov-chain-monte-carlo.html) | [Chapter 11. God Spiked the Integers](11-god-spiked-the-integers.html) >"
   ]
  },
  {
   "cell_type": "markdown",
   "metadata": {},
   "source": []
  },
  {
   "cell_type": "markdown",
   "metadata": {},
   "source": [
    "<div class=\"admonition note\">\n",
    "          <span style=\"white-space: nowrap;\">\n",
    "            <a href=\"https://colab.research.google.com/github/fehiepsi/rethinking-numpyro/blob/master/notebooks/10_big_entropy_and_the_generalized_linear_model.ipynb\">\n",
    "              <img alt=\"Open In Colab\"\n",
    "                src=\"https://colab.research.google.com/assets/colab-badge.svg\"\n",
    "                style=\"vertical-align:text-bottom\">\n",
    "            </a>\n",
    "          </span>\n",
    "        </div>"
   ]
  },
  {
   "cell_type": "code",
   "execution_count": null,
   "metadata": {},
   "outputs": [],
   "source": [
    "!pip install -q numpyro arviz"
   ]
  },
  {
   "cell_type": "code",
   "execution_count": 0,
   "metadata": {},
   "outputs": [],
   "source": [
    "import os\n",
    "\n",
    "import arviz as az\n",
    "import matplotlib.pyplot as plt\n",
    "\n",
    "import jax.numpy as jnp\n",
    "from jax import random, tree_map, vmap\n",
    "\n",
    "import numpyro\n",
    "import numpyro.distributions as dist\n",
    "\n",
    "if \"SVG\" in os.environ:\n",
    "    %config InlineBackend.figure_formats = [\"svg\"]\n",
    "az.style.use(\"arviz-darkgrid\")\n",
    "numpyro.set_platform(\"cpu\")"
   ]
  },
  {
   "cell_type": "markdown",
   "metadata": {},
   "source": [
    "### Code 10.1"
   ]
  },
  {
   "cell_type": "code",
   "execution_count": 1,
   "metadata": {},
   "outputs": [],
   "source": [
    "p = {}\n",
    "p[\"A\"] = jnp.array([0, 0, 10, 0, 0])\n",
    "p[\"B\"] = jnp.array([0, 1, 8, 1, 0])\n",
    "p[\"C\"] = jnp.array([0, 2, 6, 2, 0])\n",
    "p[\"D\"] = jnp.array([1, 2, 4, 2, 1])\n",
    "p[\"E\"] = jnp.array([2, 2, 2, 2, 2])"
   ]
  },
  {
   "cell_type": "markdown",
   "metadata": {},
   "source": [
    "### Code 10.2"
   ]
  },
  {
   "cell_type": "code",
   "execution_count": 2,
   "metadata": {},
   "outputs": [],
   "source": [
    "p_norm = tree_map(lambda q: q / jnp.sum(q), p)"
   ]
  },
  {
   "cell_type": "markdown",
   "metadata": {},
   "source": [
    "### Code 10.3"
   ]
  },
  {
   "cell_type": "code",
   "execution_count": 3,
   "metadata": {},
   "outputs": [
    {
     "data": {
      "text/plain": [
       "{'A': DeviceArray(-0., dtype=float32),\n",
       " 'B': DeviceArray(0.6390318, dtype=float32),\n",
       " 'C': DeviceArray(0.95027053, dtype=float32),\n",
       " 'D': DeviceArray(1.4708084, dtype=float32),\n",
       " 'E': DeviceArray(1.609438, dtype=float32)}"
      ]
     },
     "execution_count": 4,
     "metadata": {},
     "output_type": "execute_result"
    }
   ],
   "source": [
    "H = tree_map(lambda q: -jnp.sum(jnp.where(q == 0, 0, q * jnp.log(q))), p_norm)\n",
    "H"
   ]
  },
  {
   "cell_type": "markdown",
   "metadata": {},
   "source": [
    "### Code 10.4"
   ]
  },
  {
   "cell_type": "code",
   "execution_count": 4,
   "metadata": {},
   "outputs": [],
   "source": [
    "ways = jnp.array([1, 90, 1260, 37800, 113400])\n",
    "logwayspp = jnp.log(ways) / 10"
   ]
  },
  {
   "cell_type": "markdown",
   "metadata": {},
   "source": [
    "### Code 10.5"
   ]
  },
  {
   "cell_type": "code",
   "execution_count": 5,
   "metadata": {},
   "outputs": [
    {
     "data": {
      "text/plain": [
       "{1: DeviceArray(1., dtype=float32),\n",
       " 2: DeviceArray(1., dtype=float32),\n",
       " 3: DeviceArray(1., dtype=float32),\n",
       " 4: DeviceArray(1., dtype=float32)}"
      ]
     },
     "execution_count": 6,
     "metadata": {},
     "output_type": "execute_result"
    }
   ],
   "source": [
    "# build list of the candidate distributions\n",
    "p = {}\n",
    "p[1] = jnp.array([1 / 4, 1 / 4, 1 / 4, 1 / 4])\n",
    "p[2] = jnp.array([2 / 6, 1 / 6, 1 / 6, 2 / 6])\n",
    "p[3] = jnp.array([1 / 6, 2 / 6, 2 / 6, 1 / 6])\n",
    "p[4] = jnp.array([1 / 8, 4 / 8, 2 / 8, 1 / 8])\n",
    "\n",
    "# compute expected value of each\n",
    "tree_map(lambda p: jnp.sum(p * jnp.array([0, 1, 1, 2])), p)"
   ]
  },
  {
   "cell_type": "markdown",
   "metadata": {},
   "source": [
    "### Code 10.6"
   ]
  },
  {
   "cell_type": "code",
   "execution_count": 6,
   "metadata": {},
   "outputs": [
    {
     "data": {
      "text/plain": [
       "{1: DeviceArray(1.3862944, dtype=float32),\n",
       " 2: DeviceArray(1.3296614, dtype=float32),\n",
       " 3: DeviceArray(1.3296614, dtype=float32),\n",
       " 4: DeviceArray(1.2130076, dtype=float32)}"
      ]
     },
     "execution_count": 7,
     "metadata": {},
     "output_type": "execute_result"
    }
   ],
   "source": [
    "# compute entropy of each distribution\n",
    "tree_map(lambda p: -jnp.sum(p * jnp.log(p)), p)"
   ]
  },
  {
   "cell_type": "markdown",
   "metadata": {},
   "source": [
    "### Code 10.7"
   ]
  },
  {
   "cell_type": "code",
   "execution_count": 7,
   "metadata": {},
   "outputs": [
    {
     "data": {
      "text/plain": [
       "DeviceArray([0.09, 0.21, 0.21, 0.49], dtype=float32)"
      ]
     },
     "execution_count": 8,
     "metadata": {},
     "output_type": "execute_result"
    }
   ],
   "source": [
    "p = 0.7\n",
    "A = jnp.array([(1 - p) ** 2, p * (1 - p), (1 - p) * p, p**2])\n",
    "A"
   ]
  },
  {
   "cell_type": "markdown",
   "metadata": {},
   "source": [
    "### Code 10.8"
   ]
  },
  {
   "cell_type": "code",
   "execution_count": 8,
   "metadata": {},
   "outputs": [
    {
     "data": {
      "text/plain": [
       "DeviceArray(1.2217286, dtype=float32)"
      ]
     },
     "execution_count": 9,
     "metadata": {},
     "output_type": "execute_result"
    }
   ],
   "source": [
    "-jnp.sum(A * jnp.log(A))"
   ]
  },
  {
   "cell_type": "markdown",
   "metadata": {},
   "source": [
    "### Code 10.9"
   ]
  },
  {
   "cell_type": "code",
   "execution_count": 9,
   "metadata": {},
   "outputs": [],
   "source": [
    "def sim_p(i, G=1.4):\n",
    "    x123 = dist.Uniform().sample(random.PRNGKey(i), (3,))\n",
    "    x4 = (G * jnp.sum(x123, keepdims=True) - x123[1] - x123[2]) / (2 - G)\n",
    "    z = jnp.sum(jnp.concatenate([x123, x4]))\n",
    "    p = jnp.concatenate([x123, x4]) / z\n",
    "    return {\"H\": -jnp.sum(p * jnp.log(p)), \"p\": p}"
   ]
  },
  {
   "cell_type": "markdown",
   "metadata": {},
   "source": [
    "### Code 10.10"
   ]
  },
  {
   "cell_type": "code",
   "execution_count": 10,
   "metadata": {},
   "outputs": [
    {
     "data": {
      "image/png": "[encoded data removed]",
      "text/plain": [
       "<Figure size 720x480 with 1 Axes>"
      ]
     },
     "metadata": {},
     "output_type": "display_data"
    }
   ],
   "source": [
    "H = vmap(lambda i: sim_p(i, G=1.4))(jnp.arange(int(1e5)))\n",
    "az.plot_kde(H[\"H\"], bw=0.25)\n",
    "plt.show()"
   ]
  },
  {
   "cell_type": "markdown",
   "metadata": {},
   "source": [
    "### Code 10.11"
   ]
  },
  {
   "cell_type": "code",
   "execution_count": 11,
   "metadata": {},
   "outputs": [],
   "source": [
    "entropies = H[\"H\"]\n",
    "distributions = H[\"p\"]"
   ]
  },
  {
   "cell_type": "markdown",
   "metadata": {},
   "source": [
    "### Code 10.12"
   ]
  },
  {
   "cell_type": "code",
   "execution_count": 12,
   "metadata": {},
   "outputs": [
    {
     "data": {
      "text/plain": [
       "DeviceArray(1.2217282, dtype=float32)"
      ]
     },
     "execution_count": 13,
     "metadata": {},
     "output_type": "execute_result"
    }
   ],
   "source": [
    "jnp.max(entropies)"
   ]
  },
  {
   "cell_type": "markdown",
   "metadata": {},
   "source": [
    "### Code 10.13"
   ]
  },
  {
   "cell_type": "code",
   "execution_count": 13,
   "metadata": {},
   "outputs": [
    {
     "data": {
      "text/plain": [
       "DeviceArray([0.09018064, 0.20994425, 0.20969447, 0.49018064], dtype=float32)"
      ]
     },
     "execution_count": 14,
     "metadata": {},
     "output_type": "execute_result"
    }
   ],
   "source": [
    "distributions[jnp.argmax(entropies)]"
   ]
  },
  {
   "cell_type": "markdown",
   "metadata": {
    "navigation": true
   },
   "source": [
    "<!-- NAVIGATION -->\n",
    "< [Chapter 9. Markov Chain Monte Carlo](09-markov-chain-monte-carlo.html) | [Chapter 11. God Spiked the Integers](11-god-spiked-the-integers.html) >"
   ]
  }
 ],
 "metadata": {
  "anaconda-cloud": {},
  "kernelspec": {
   "display_name": "Python 3 (ipykernel)",
   "language": "python",
   "name": "python3"
  },
  "language_info": {
   "codemirror_mode": {
    "name": "ipython",
    "version": 3
   },
   "file_extension": ".py",
   "mimetype": "text/x-python",
   "name": "python",
   "nbconvert_exporter": "python",
   "pygments_lexer": "ipython3",
   "version": "3.11.6"
  },
  "nikola": {
   "title": "Chapter 10. Big Entropy and the Generalized Linear Model"
  }
 },
 "nbformat": 4,
 "nbformat_minor": 4
}
