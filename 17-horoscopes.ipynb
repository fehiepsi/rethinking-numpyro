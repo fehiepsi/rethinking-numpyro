{
 "cells": [
  {
   "cell_type": "markdown",
   "metadata": {
    "navigation": true
   },
   "source": [
    "<!-- NAVIGATION -->\n",
    "< [Chapter 16. Generalized Linear Madness](16-generalized-linear-madness.html) | []() >"
   ]
  },
  {
   "cell_type": "markdown",
   "metadata": {},
   "source": []
  },
  {
   "cell_type": "markdown",
   "metadata": {},
   "source": [
    "<div class=\"admonition note\">\n",
    "          <span style=\"white-space: nowrap;\">\n",
    "            <a href=\"https://colab.research.google.com/github/fehiepsi/rethinking-numpyro/blob/master/notebooks/17_horoscopes.ipynb\">\n",
    "              <img alt=\"Open In Colab\"\n",
    "                src=\"https://colab.research.google.com/assets/colab-badge.svg\"\n",
    "                style=\"vertical-align:text-bottom\">\n",
    "            </a>\n",
    "          </span>\n",
    "        </div>"
   ]
  },
  {
   "cell_type": "markdown",
   "metadata": {},
   "source": [
    "**There are no codes in this chapter.**"
   ]
  },
  {
   "cell_type": "markdown",
   "metadata": {
    "navigation": true
   },
   "source": [
    "<!-- NAVIGATION -->\n",
    "< [Chapter 16. Generalized Linear Madness](16-generalized-linear-madness.html) | []() >"
   ]
  }
 ],
 "metadata": {
  "kernelspec": {
   "display_name": "Python 3 (ipykernel)",
   "language": "python",
   "name": "python3"
  },
  "language_info": {
   "codemirror_mode": {
    "name": "ipython",
    "version": 3
   },
   "file_extension": ".py",
   "mimetype": "text/x-python",
   "name": "python",
   "nbconvert_exporter": "python",
   "pygments_lexer": "ipython3",
   "version": "3.11.6"
  },
  "nikola": {
   "title": "Chapter 17. Horoscopes"
  }
 },
 "nbformat": 4,
 "nbformat_minor": 4
}
