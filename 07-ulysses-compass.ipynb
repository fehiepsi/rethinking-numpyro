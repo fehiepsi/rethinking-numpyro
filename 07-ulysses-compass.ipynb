{
 "cells": [
  {
   "cell_type": "markdown",
   "metadata": {
    "navigation": true
   },
   "source": [
    "<!-- NAVIGATION -->\n",
    "< [Chapter 6. The Haunted DAG & The Causal Terror](06-the-haunted-dag-and-the-causal-terror.html) | [Chapter 8. Conditional Manatees](08-conditional-manatees.html) >"
   ]
  },
  {
   "cell_type": "markdown",
   "metadata": {},
   "source": []
  },
  {
   "cell_type": "markdown",
   "metadata": {},
   "source": [
    "<div class=\"admonition note\">\n",
    "          <span style=\"white-space: nowrap;\">\n",
    "            <a href=\"https://colab.research.google.com/github/fehiepsi/rethinking-numpyro/blob/master/notebooks/07_ulysses_compass.ipynb\">\n",
    "              <img alt=\"Open In Colab\"\n",
    "                src=\"https://colab.research.google.com/assets/colab-badge.svg\"\n",
    "                style=\"vertical-align:text-bottom\">\n",
    "            </a>\n",
    "          </span>\n",
    "        </div>"
   ]
  },
  {
   "cell_type": "code",
   "execution_count": null,
   "metadata": {},
   "outputs": [],
   "source": [
    "!pip install -q numpyro arviz"
   ]
  },
  {
   "cell_type": "code",
   "execution_count": 0,
   "metadata": {},
   "outputs": [],
   "source": [
    "import os\n",
    "import warnings\n",
    "\n",
    "import arviz as az\n",
    "import matplotlib.pyplot as plt\n",
    "import pandas as pd\n",
    "\n",
    "import jax.numpy as jnp\n",
    "from jax import lax, random, vmap\n",
    "from jax.scipy.special import logsumexp\n",
    "\n",
    "import numpyro\n",
    "import numpyro.distributions as dist\n",
    "import numpyro.optim as optim\n",
    "from numpyro.diagnostics import print_summary\n",
    "from numpyro.infer import Predictive, SVI, Trace_ELBO, init_to_value, log_likelihood\n",
    "from numpyro.infer.autoguide import AutoLaplaceApproximation\n",
    "\n",
    "if \"SVG\" in os.environ:\n",
    "    %config InlineBackend.figure_formats = [\"svg\"]\n",
    "warnings.formatwarning = lambda message, category, *args, **kwargs: \"{}: {}\\n\".format(\n",
    "    category.__name__, message\n",
    ")\n",
    "az.style.use(\"arviz-darkgrid\")\n",
    "numpyro.set_platform(\"cpu\")"
   ]
  },
  {
   "cell_type": "markdown",
   "metadata": {},
   "source": [
    "### Code 7.1"
   ]
  },
  {
   "cell_type": "code",
   "execution_count": 1,
   "metadata": {},
   "outputs": [],
   "source": [
    "sppnames = [\n",
    "    \"afarensis\",\n",
    "    \"africanus\",\n",
    "    \"habilis\",\n",
    "    \"boisei\",\n",
    "    \"rudolfensis\",\n",
    "    \"ergaster\",\n",
    "    \"sapiens\",\n",
    "]\n",
    "brainvolcc = jnp.array([438, 452, 612, 521, 752, 871, 1350])\n",
    "masskg = jnp.array([37.0, 35.5, 34.5, 41.5, 55.5, 61.0, 53.5])\n",
    "d = pd.DataFrame({\"species\": sppnames, \"brain\": brainvolcc, \"mass\": masskg})"
   ]
  },
  {
   "cell_type": "markdown",
   "metadata": {},
   "source": [
    "### Code 7.2"
   ]
  },
  {
   "cell_type": "code",
   "execution_count": 2,
   "metadata": {},
   "outputs": [],
   "source": [
    "d[\"mass_std\"] = (d.mass - d.mass.mean()) / d.mass.std()\n",
    "d[\"brain_std\"] = d.brain / d.brain.max()"
   ]
  },
  {
   "cell_type": "markdown",
   "metadata": {},
   "source": [
    "### Code 7.3"
   ]
  },
  {
   "cell_type": "code",
   "execution_count": 3,
   "metadata": {},
   "outputs": [
    {
     "name": "stderr",
     "output_type": "stream",
     "text": [
      "100%|██████████| 1000/1000 [00:00<00:00, 1593.52it/s, init loss: 115.9437, avg. loss [951-1000]: 3.6486]\n"
     ]
    }
   ],
   "source": [
    "def model(mass_std, brain_std=None):\n",
    "    a = numpyro.sample(\"a\", dist.Normal(0.5, 1))\n",
    "    b = numpyro.sample(\"b\", dist.Normal(0, 10))\n",
    "    log_sigma = numpyro.sample(\"log_sigma\", dist.Normal(0, 1))\n",
    "    mu = numpyro.deterministic(\"mu\", a + b * mass_std)\n",
    "    numpyro.sample(\"brain_std\", dist.Normal(mu, jnp.exp(log_sigma)), obs=brain_std)\n",
    "\n",
    "\n",
    "m7_1 = AutoLaplaceApproximation(model)\n",
    "svi = SVI(\n",
    "    model,\n",
    "    m7_1,\n",
    "    optim.Adam(0.3),\n",
    "    Trace_ELBO(),\n",
    "    mass_std=d.mass_std.values,\n",
    "    brain_std=d.brain_std.values,\n",
    ")\n",
    "svi_result = svi.run(random.PRNGKey(0), 1000)\n",
    "p7_1 = svi_result.params"
   ]
  },
  {
   "cell_type": "markdown",
   "metadata": {},
   "source": [
    "### Code 7.4"
   ]
  },
  {
   "cell_type": "code",
   "execution_count": 4,
   "metadata": {},
   "outputs": [
    {
     "name": "stderr",
     "output_type": "stream",
     "text": [
      "100%|██████████| 1000/1000 [00:00<00:00, 1700.78it/s, init loss: 118.9001, avg. loss [951-1000]: 6.6802]\n"
     ]
    }
   ],
   "source": [
    "def model(mass_std, brain_std):\n",
    "    intercept = numpyro.sample(\"intercept\", dist.Normal(0, 10))\n",
    "    b_mass_std = numpyro.sample(\"b_mass_std\", dist.Normal(0, 10))\n",
    "    sigma = numpyro.sample(\"sigma\", dist.HalfCauchy(2))\n",
    "    mu = intercept + b_mass_std * mass_std\n",
    "    numpyro.sample(\"brain_std\", dist.Normal(mu, sigma), obs=brain_std)\n",
    "\n",
    "\n",
    "m7_1_OLS = AutoLaplaceApproximation(model)\n",
    "svi = SVI(\n",
    "    model,\n",
    "    m7_1_OLS,\n",
    "    optim=optim.Adam(0.01),\n",
    "    loss=Trace_ELBO(),\n",
    "    mass_std=d.mass_std.values,\n",
    "    brain_std=d.brain_std.values,\n",
    ")\n",
    "svi_result = svi.run(random.PRNGKey(0), 1000)\n",
    "p7_1_OLS = svi_result.params\n",
    "post = m7_1_OLS.sample_posterior(random.PRNGKey(1), p7_1_OLS, sample_shape=(1000,))"
   ]
  },
  {
   "cell_type": "markdown",
   "metadata": {},
   "source": [
    "### Code 7.5"
   ]
  },
  {
   "cell_type": "code",
   "execution_count": 5,
   "metadata": {},
   "outputs": [
    {
     "data": {
      "text/plain": [
       "DeviceArray(0.45580828, dtype=float32)"
      ]
     },
     "execution_count": 6,
     "metadata": {},
     "output_type": "execute_result"
    }
   ],
   "source": [
    "post = m7_1.sample_posterior(random.PRNGKey(12), p7_1, sample_shape=(1000,))\n",
    "s = Predictive(m7_1.model, post)(random.PRNGKey(2), d.mass_std.values)\n",
    "r = jnp.mean(s[\"brain_std\"], 0) - d.brain_std.values\n",
    "resid_var = jnp.var(r, ddof=1)\n",
    "outcome_var = jnp.var(d.brain_std.values, ddof=1)\n",
    "1 - resid_var / outcome_var"
   ]
  },
  {
   "cell_type": "markdown",
   "metadata": {},
   "source": [
    "### Code 7.6"
   ]
  },
  {
   "cell_type": "code",
   "execution_count": 6,
   "metadata": {},
   "outputs": [],
   "source": [
    "def R2_is_bad(quap_fit):\n",
    "    quap, params = quap_fit\n",
    "    post = quap.sample_posterior(random.PRNGKey(1), params, sample_shape=(1000,))\n",
    "    s = Predictive(quap.model, post)(random.PRNGKey(2), d.mass_std.values)\n",
    "    r = jnp.mean(s[\"brain_std\"], 0) - d.brain_std.values\n",
    "    return 1 - jnp.var(r, ddof=1) / jnp.var(d.brain_std.values, ddof=1)"
   ]
  },
  {
   "cell_type": "markdown",
   "metadata": {},
   "source": [
    "### Code 7.7"
   ]
  },
  {
   "cell_type": "code",
   "execution_count": 7,
   "metadata": {},
   "outputs": [
    {
     "name": "stderr",
     "output_type": "stream",
     "text": [
      "100%|██████████| 2000/2000 [00:00<00:00, 3029.44it/s, init loss: 19.0172, avg. loss [1901-2000]: 6.6510]\n"
     ]
    }
   ],
   "source": [
    "def model(mass_std, brain_std=None):\n",
    "    a = numpyro.sample(\"a\", dist.Normal(0.5, 1))\n",
    "    b = numpyro.sample(\"b\", dist.Normal(0, 10).expand([2]))\n",
    "    log_sigma = numpyro.sample(\"log_sigma\", dist.Normal(0, 1))\n",
    "    mu = numpyro.deterministic(\"mu\", a + b[0] * mass_std + b[1] * mass_std**2)\n",
    "    numpyro.sample(\"brain_std\", dist.Normal(mu, jnp.exp(log_sigma)), obs=brain_std)\n",
    "\n",
    "\n",
    "m7_2 = AutoLaplaceApproximation(\n",
    "    model, init_loc_fn=init_to_value(values={\"b\": jnp.repeat(0.0, 2)})\n",
    ")\n",
    "svi = SVI(\n",
    "    model,\n",
    "    m7_2,\n",
    "    optim.Adam(0.3),\n",
    "    Trace_ELBO(),\n",
    "    mass_std=d.mass_std.values,\n",
    "    brain_std=d.brain_std.values,\n",
    ")\n",
    "svi_result = svi.run(random.PRNGKey(0), 2000)\n",
    "p7_2 = svi_result.params"
   ]
  },
  {
   "cell_type": "markdown",
   "metadata": {},
   "source": [
    "### Code 7.8"
   ]
  },
  {
   "cell_type": "code",
   "execution_count": 8,
   "metadata": {},
   "outputs": [
    {
     "name": "stderr",
     "output_type": "stream",
     "text": [
      "100%|██████████| 2000/2000 [00:00<00:00, 2905.53it/s, init loss: 22.2387, avg. loss [1901-2000]: 8.8866]\n",
      "100%|██████████| 2000/2000 [00:00<00:00, 2911.48it/s, init loss: 25.4603, avg. loss [1901-2000]: 10.8298]\n",
      "100%|██████████| 2000/2000 [00:00<00:00, 2650.21it/s, init loss: 28.6818, avg. loss [1901-2000]: 8.2608]\n"
     ]
    }
   ],
   "source": [
    "def model(mass_std, brain_std=None):\n",
    "    a = numpyro.sample(\"a\", dist.Normal(0.5, 1))\n",
    "    b = numpyro.sample(\"b\", dist.Normal(0, 10).expand([3]))\n",
    "    log_sigma = numpyro.sample(\"log_sigma\", dist.Normal(0, 1))\n",
    "    mu = numpyro.deterministic(\n",
    "        \"mu\", a + b[0] * mass_std + b[1] * mass_std**2 + b[2] * mass_std**3\n",
    "    )\n",
    "    numpyro.sample(\"brain_std\", dist.Normal(mu, jnp.exp(log_sigma)), obs=brain_std)\n",
    "\n",
    "\n",
    "m7_3 = AutoLaplaceApproximation(\n",
    "    model, init_loc_fn=init_to_value(values={\"b\": jnp.repeat(0.0, 3)})\n",
    ")\n",
    "svi = SVI(\n",
    "    model,\n",
    "    m7_3,\n",
    "    optim.Adam(0.01),\n",
    "    Trace_ELBO(),\n",
    "    mass_std=d.mass_std.values,\n",
    "    brain_std=d.brain_std.values,\n",
    ")\n",
    "svi_result = svi.run(random.PRNGKey(0), 2000)\n",
    "p7_3 = svi_result.params\n",
    "\n",
    "\n",
    "def model(mass_std, brain_std=None):\n",
    "    a = numpyro.sample(\"a\", dist.Normal(0.5, 1))\n",
    "    b = numpyro.sample(\"b\", dist.Normal(0, 10).expand([4]))\n",
    "    log_sigma = numpyro.sample(\"log_sigma\", dist.Normal(0, 1))\n",
    "    mu = numpyro.deterministic(\n",
    "        \"mu\", a + jnp.sum(b * jnp.power(mass_std[..., None], jnp.arange(1, 5)), -1)\n",
    "    )\n",
    "    numpyro.sample(\"brain_std\", dist.Normal(mu, jnp.exp(log_sigma)), obs=brain_std)\n",
    "\n",
    "\n",
    "m7_4 = AutoLaplaceApproximation(\n",
    "    model, init_loc_fn=init_to_value(values={\"b\": jnp.repeat(0.0, 4)})\n",
    ")\n",
    "svi = SVI(\n",
    "    model,\n",
    "    m7_4,\n",
    "    optim.Adam(0.01),\n",
    "    Trace_ELBO(),\n",
    "    mass_std=d.mass_std.values,\n",
    "    brain_std=d.brain_std.values,\n",
    ")\n",
    "svi_result = svi.run(random.PRNGKey(0), 2000)\n",
    "p7_4 = svi_result.params\n",
    "\n",
    "\n",
    "def model(mass_std, brain_std=None):\n",
    "    a = numpyro.sample(\"a\", dist.Normal(0.5, 1))\n",
    "    b = numpyro.sample(\"b\", dist.Normal(0, 10).expand([5]))\n",
    "    log_sigma = numpyro.sample(\"log_sigma\", dist.Normal(0, 1))\n",
    "    mu = numpyro.deterministic(\n",
    "        \"mu\", a + jnp.sum(b * jnp.power(mass_std[..., None], jnp.arange(1, 6)), -1)\n",
    "    )\n",
    "    numpyro.sample(\"brain_std\", dist.Normal(mu, jnp.exp(log_sigma)), obs=brain_std)\n",
    "\n",
    "\n",
    "m7_5 = AutoLaplaceApproximation(\n",
    "    model, init_loc_fn=init_to_value(values={\"b\": jnp.repeat(0.0, 5)})\n",
    ")\n",
    "svi = SVI(\n",
    "    model,\n",
    "    m7_5,\n",
    "    optim.Adam(0.01),\n",
    "    Trace_ELBO(),\n",
    "    mass_std=d.mass_std.values,\n",
    "    brain_std=d.brain_std.values,\n",
    ")\n",
    "svi_result = svi.run(random.PRNGKey(0), 2000)\n",
    "p7_5 = svi_result.params"
   ]
  },
  {
   "cell_type": "markdown",
   "metadata": {},
   "source": [
    "### Code 7.9"
   ]
  },
  {
   "cell_type": "code",
   "execution_count": 9,
   "metadata": {},
   "outputs": [
    {
     "name": "stderr",
     "output_type": "stream",
     "text": [
      "100%|██████████| 5000/5000 [00:00<00:00, 5220.55it/s, init loss: 31.9033, avg. loss [4751-5000]: 9.2877]\n"
     ]
    }
   ],
   "source": [
    "def model(mass_std, brain_std=None):\n",
    "    a = numpyro.sample(\"a\", dist.Normal(0.5, 1))\n",
    "    b = numpyro.sample(\"b\", dist.Normal(0, 10).expand([6]))\n",
    "    log_sigma = numpyro.sample(\"log_sigma\", dist.Normal(0, 1))\n",
    "    mu = numpyro.deterministic(\n",
    "        \"mu\", a + jnp.sum(b * jnp.power(mass_std[..., None], jnp.arange(1, 7)), -1)\n",
    "    )\n",
    "    numpyro.sample(\"brain_std\", dist.Normal(mu, jnp.exp(log_sigma)), obs=brain_std)\n",
    "\n",
    "\n",
    "m7_6 = AutoLaplaceApproximation(\n",
    "    model, init_loc_fn=init_to_value(values={\"b\": jnp.repeat(0.0, 6)})\n",
    ")\n",
    "svi = SVI(\n",
    "    model,\n",
    "    m7_6,\n",
    "    optim.Adam(0.003),\n",
    "    Trace_ELBO(),\n",
    "    mass_std=d.mass_std.values,\n",
    "    brain_std=d.brain_std.values,\n",
    ")\n",
    "svi_result = svi.run(random.PRNGKey(0), 5000)\n",
    "p7_6 = svi_result.params"
   ]
  },
  {
   "cell_type": "markdown",
   "metadata": {},
   "source": [
    "### Code 7.10"
   ]
  },
  {
   "cell_type": "code",
   "execution_count": 10,
   "metadata": {},
   "outputs": [
    {
     "data": {
      "image/png": "[encoded data removed]",
      "text/plain": [
       "<Figure size 720x480 with 1 Axes>"
      ]
     },
     "metadata": {},
     "output_type": "display_data"
    }
   ],
   "source": [
    "post = m7_1.sample_posterior(random.PRNGKey(1), p7_1, sample_shape=(1000,))\n",
    "post.pop(\"mu\")\n",
    "mass_seq = jnp.linspace(d.mass_std.min(), d.mass_std.max(), num=100)\n",
    "l = Predictive(m7_1.model, post, return_sites=[\"mu\"])(\n",
    "    random.PRNGKey(2), mass_std=mass_seq\n",
    ")[\"mu\"]\n",
    "mu = jnp.mean(l, 0)\n",
    "ci = jnp.percentile(l, jnp.array([5.5, 94.5]), 0)\n",
    "az.plot_pair(d[[\"mass_std\", \"brain_std\"]].to_dict(\"list\"))\n",
    "plt.plot(mass_seq, mu, \"k\")\n",
    "plt.fill_between(mass_seq, ci[0], ci[1], color=\"k\", alpha=0.2)\n",
    "plt.title(\"m7.1: R^2 = {:0.2f}\".format(R2_is_bad((m7_1, p7_1)).item()))\n",
    "plt.show()"
   ]
  },
  {
   "cell_type": "markdown",
   "metadata": {},
   "source": [
    "### Code 7.11"
   ]
  },
  {
   "cell_type": "code",
   "execution_count": 11,
   "metadata": {},
   "outputs": [],
   "source": [
    "i = 1\n",
    "d_minus_i = d.drop(i)"
   ]
  },
  {
   "cell_type": "markdown",
   "metadata": {},
   "source": [
    "### Code 7.12"
   ]
  },
  {
   "cell_type": "code",
   "execution_count": 12,
   "metadata": {},
   "outputs": [
    {
     "data": {
      "text/plain": [
       "DeviceArray(0.61086434, dtype=float32)"
      ]
     },
     "execution_count": 13,
     "metadata": {},
     "output_type": "execute_result"
    }
   ],
   "source": [
    "p = jnp.array([0.3, 0.7])\n",
    "-jnp.sum(p * jnp.log(p))"
   ]
  },
  {
   "cell_type": "markdown",
   "metadata": {},
   "source": [
    "### Code 7.13"
   ]
  },
  {
   "cell_type": "code",
   "execution_count": 13,
   "metadata": {},
   "outputs": [
    {
     "data": {
      "text/plain": [
       "DeviceArray([ 0.6177206 ,  0.6550026 ,  0.54556274,  0.6307907 ,\n",
       "              0.4702301 ,  0.43731594, -0.8560524 ], dtype=float32)"
      ]
     },
     "execution_count": 14,
     "metadata": {},
     "output_type": "execute_result"
    }
   ],
   "source": [
    "def lppd_fn(seed, quad, params, num_samples=1000):\n",
    "    post = quad.sample_posterior(random.PRNGKey(1), params, sample_shape=(num_samples,))\n",
    "    logprob = log_likelihood(quad.model, post, d.mass_std.values, d.brain_std.values)\n",
    "    logprob = logprob[\"brain_std\"]\n",
    "    return logsumexp(logprob, 0) - jnp.log(logprob.shape[0])\n",
    "\n",
    "\n",
    "lppd_fn(random.PRNGKey(1), m7_1, p7_1, int(1e4))"
   ]
  },
  {
   "cell_type": "markdown",
   "metadata": {},
   "source": [
    "### Code 7.14"
   ]
  },
  {
   "cell_type": "code",
   "execution_count": 14,
   "metadata": {},
   "outputs": [
    {
     "data": {
      "text/plain": [
       "DeviceArray([ 0.6177206 ,  0.6550026 ,  0.54556274,  0.6307907 ,\n",
       "              0.4702301 ,  0.43731594, -0.8560524 ], dtype=float32)"
      ]
     },
     "execution_count": 15,
     "metadata": {},
     "output_type": "execute_result"
    }
   ],
   "source": [
    "post = m7_1.sample_posterior(random.PRNGKey(1), p7_1, sample_shape=(int(1e4),))\n",
    "logprob = log_likelihood(m7_1.model, post, d.mass_std.values, d.brain_std.values)\n",
    "logprob = logprob[\"brain_std\"]\n",
    "n = logprob.shape[1]\n",
    "ns = logprob.shape[0]\n",
    "f = lambda i: logsumexp(logprob[:, i]) - jnp.log(ns)\n",
    "lppd = vmap(f)(jnp.arange(n))\n",
    "lppd"
   ]
  },
  {
   "cell_type": "markdown",
   "metadata": {},
   "source": [
    "### Code 7.15"
   ]
  },
  {
   "cell_type": "code",
   "execution_count": 15,
   "metadata": {},
   "outputs": [
    {
     "name": "stderr",
     "output_type": "stream",
     "text": [
      "UserWarning: Hessian of log posterior at the MAP point is singular. Posterior samples from AutoLaplaceApproxmiation will be constant (equal to the MAP point). Please consider using an AutoNormal guide.\n"
     ]
    },
    {
     "data": {
      "text/plain": [
       "[2.500570297241211,\n",
       " 2.5938844680786133,\n",
       " 3.6698102951049805,\n",
       " 5.338682174682617,\n",
       " 14.092883110046387,\n",
       " 19.871124267578125]"
      ]
     },
     "execution_count": 16,
     "metadata": {},
     "output_type": "execute_result"
    }
   ],
   "source": [
    "[\n",
    "    jnp.sum(lppd_fn(random.PRNGKey(1), m[0], m[1])).item()\n",
    "    for m in (\n",
    "        (m7_1, p7_1),\n",
    "        (m7_2, p7_2),\n",
    "        (m7_3, p7_3),\n",
    "        (m7_4, p7_4),\n",
    "        (m7_5, p7_5),\n",
    "        (m7_6, p7_6),\n",
    "    )\n",
    "]"
   ]
  },
  {
   "cell_type": "markdown",
   "metadata": {},
   "source": [
    "### Code 7.16"
   ]
  },
  {
   "cell_type": "code",
   "execution_count": 16,
   "metadata": {},
   "outputs": [
    {
     "name": "stdout",
     "output_type": "stream",
     "text": [
      "1\n",
      "2\n",
      "3\n",
      "4\n",
      "5\n"
     ]
    }
   ],
   "source": [
    "def model(mm, y, b_sigma):\n",
    "    a = numpyro.param(\"a\", jnp.array([0.0]))\n",
    "    Bvec = a\n",
    "    k = mm.shape[1]\n",
    "    if k > 1:\n",
    "        b = numpyro.sample(\"b\", dist.Normal(0, b_sigma).expand([k - 1]))\n",
    "        Bvec = jnp.concatenate([Bvec, b])\n",
    "    mu = jnp.matmul(mm, Bvec)\n",
    "    numpyro.sample(\"y\", dist.Normal(mu, 1), obs=y)\n",
    "\n",
    "\n",
    "def sim_train_test(i, N=20, k=3, rho=[0.15, -0.4], b_sigma=100):\n",
    "    n_dim = max(k, 3)\n",
    "    Rho = jnp.identity(n_dim)\n",
    "    Rho = Rho.at[1 : len(rho) + 1, 0].set(jnp.array(rho))\n",
    "    Rho = Rho.at[0, 1 : len(rho) + 1].set(jnp.array(rho))\n",
    "\n",
    "    X_train = dist.MultivariateNormal(jnp.zeros(n_dim), Rho).sample(\n",
    "        random.fold_in(random.PRNGKey(0), i), (N,)\n",
    "    )\n",
    "    mm_train = jnp.ones((N, 1))\n",
    "    if k > 1:\n",
    "        mm_train = jnp.concatenate([mm_train, X_train[:, 1:k]], axis=1)\n",
    "\n",
    "    if k > 1:\n",
    "        m = AutoLaplaceApproximation(\n",
    "            model, init_loc_fn=init_to_value(values={\"b\": jnp.zeros(k - 1)})\n",
    "        )\n",
    "    else:\n",
    "        m = lambda mm, y, b_sigma: None\n",
    "    svi = SVI(\n",
    "        model,\n",
    "        m,\n",
    "        optim.Adam(0.3),\n",
    "        Trace_ELBO(),\n",
    "        mm=mm_train,\n",
    "        y=X_train[:, 0],\n",
    "        b_sigma=b_sigma,\n",
    "    )\n",
    "    svi_result = svi.run(random.fold_in(random.PRNGKey(1), i), 1000, progress_bar=False)\n",
    "    params = svi_result.params\n",
    "    coefs = params[\"a\"]\n",
    "    if k > 1:\n",
    "        coefs = jnp.concatenate([coefs, m.median(params)[\"b\"]])\n",
    "\n",
    "    logprob = dist.Normal(jnp.matmul(mm_train, coefs)).log_prob(X_train[:, 0])\n",
    "    dev_train = (-2) * jnp.sum(logprob)\n",
    "\n",
    "    X_test = dist.MultivariateNormal(jnp.zeros(n_dim), Rho).sample(\n",
    "        random.fold_in(random.PRNGKey(2), i), (N,)\n",
    "    )\n",
    "    mm_test = jnp.ones((N, 1))\n",
    "    if k > 1:\n",
    "        mm_test = jnp.concatenate([mm_test, X_test[:, 1:k]], axis=1)\n",
    "    logprob = dist.Normal(jnp.matmul(mm_test, coefs)).log_prob(X_test[:, 0])\n",
    "    dev_test = (-2) * jnp.sum(logprob)\n",
    "    return jnp.stack([dev_train, dev_test])\n",
    "\n",
    "\n",
    "def dev_fn(N, k):\n",
    "    print(k)\n",
    "    r = lax.map(lambda i: sim_train_test(i, N, k), jnp.arange((int(1e4))))\n",
    "    return jnp.concatenate([jnp.mean(r, 0), jnp.std(r, 0)])\n",
    "\n",
    "\n",
    "N = 20\n",
    "kseq = range(1, 6)\n",
    "dev = jnp.stack([dev_fn(N, k) for k in kseq], axis=1)"
   ]
  },
  {
   "cell_type": "markdown",
   "metadata": {},
   "source": [
    "### Code 7.17"
   ]
  },
  {
   "cell_type": "code",
   "execution_count": 17,
   "metadata": {},
   "outputs": [],
   "source": [
    "def dev_fn(N, k):\n",
    "    print(k)\n",
    "    r = vmap(lambda i: sim_train_test(i, N, k))(jnp.arange((int(1e4))))\n",
    "    return jnp.concatenate([jnp.mean(r, 0), jnp.std(r, 0)])"
   ]
  },
  {
   "cell_type": "markdown",
   "metadata": {},
   "source": [
    "### Code 7.18"
   ]
  },
  {
   "cell_type": "code",
   "execution_count": 18,
   "metadata": {},
   "outputs": [
    {
     "data": {
      "image/png": "[encoded data removed]",
      "text/plain": [
       "<Figure size 720x480 with 1 Axes>"
      ]
     },
     "metadata": {},
     "output_type": "display_data"
    }
   ],
   "source": [
    "plt.subplot(\n",
    "    ylim=(jnp.min(dev[0]).item() - 5, jnp.max(dev[0]).item() + 12),\n",
    "    xlim=(0.9, 5.2),\n",
    "    xlabel=\"number of parameters\",\n",
    "    ylabel=\"deviance\",\n",
    ")\n",
    "plt.title(\"N = {}\".format(N))\n",
    "plt.scatter(jnp.arange(1, 6), dev[0], s=80, color=\"b\")\n",
    "plt.scatter(jnp.arange(1.1, 6), dev[1], s=80, color=\"k\")\n",
    "pts_int = (dev[0] - dev[2], dev[0] + dev[2])\n",
    "pts_out = (dev[1] - dev[3], dev[1] + dev[3])\n",
    "plt.vlines(jnp.arange(1, 6), pts_int[0], pts_int[1], color=\"b\")\n",
    "plt.vlines(jnp.arange(1.1, 6), pts_out[0], pts_out[1], color=\"k\")\n",
    "plt.annotate(\n",
    "    \"in\", (2, dev[0][1]), xytext=(-25, -5), textcoords=\"offset pixels\", color=\"b\"\n",
    ")\n",
    "plt.annotate(\"out\", (2.1, dev[1][1]), xytext=(10, -5), textcoords=\"offset pixels\")\n",
    "plt.annotate(\n",
    "    \"+1SD\",\n",
    "    (2.1, pts_out[1][1]),\n",
    "    xytext=(10, -5),\n",
    "    textcoords=\"offset pixels\",\n",
    "    fontsize=12,\n",
    ")\n",
    "plt.annotate(\n",
    "    \"-1SD\",\n",
    "    (2.1, pts_out[0][1]),\n",
    "    xytext=(10, -5),\n",
    "    textcoords=\"offset pixels\",\n",
    "    fontsize=12,\n",
    ")\n",
    "plt.show()"
   ]
  },
  {
   "cell_type": "markdown",
   "metadata": {},
   "source": [
    "### Code 7.19"
   ]
  },
  {
   "cell_type": "code",
   "execution_count": 19,
   "metadata": {},
   "outputs": [
    {
     "name": "stderr",
     "output_type": "stream",
     "text": [
      "100%|██████████| 5000/5000 [00:00<00:00, 5122.07it/s, init loss: 210883.8125, avg. loss [4751-5000]: 227.2560]\n"
     ]
    }
   ],
   "source": [
    "cars = pd.read_csv(\"../data/cars.csv\", sep=\",\")\n",
    "\n",
    "\n",
    "def model(speed, cars_dist):\n",
    "    a = numpyro.sample(\"a\", dist.Normal(0, 100))\n",
    "    b = numpyro.sample(\"b\", dist.Normal(0, 10))\n",
    "    sigma = numpyro.sample(\"sigma\", dist.Exponential(1))\n",
    "    mu = a + b * speed\n",
    "    numpyro.sample(\"dist\", dist.Normal(mu, sigma), obs=cars_dist)\n",
    "\n",
    "\n",
    "m = AutoLaplaceApproximation(model)\n",
    "svi = SVI(\n",
    "    model,\n",
    "    m,\n",
    "    optim.Adam(1),\n",
    "    Trace_ELBO(),\n",
    "    speed=cars.speed.values,\n",
    "    cars_dist=cars.dist.values,\n",
    ")\n",
    "svi_result = svi.run(random.PRNGKey(0), 5000)\n",
    "params = svi_result.params\n",
    "post = m.sample_posterior(random.PRNGKey(94), params, sample_shape=(1000,))"
   ]
  },
  {
   "cell_type": "markdown",
   "metadata": {},
   "source": [
    "### Code 7.20"
   ]
  },
  {
   "cell_type": "code",
   "execution_count": 20,
   "metadata": {},
   "outputs": [],
   "source": [
    "n_samples = 1000\n",
    "\n",
    "\n",
    "def logprob_fn(s):\n",
    "    mu = post[\"a\"][s] + post[\"b\"][s] * cars.speed.values\n",
    "    return dist.Normal(mu, post[\"sigma\"][s]).log_prob(cars.dist.values)\n",
    "\n",
    "\n",
    "logprob = vmap(logprob_fn, out_axes=1)(jnp.arange(n_samples))"
   ]
  },
  {
   "cell_type": "markdown",
   "metadata": {},
   "source": [
    "### Code 7.21"
   ]
  },
  {
   "cell_type": "code",
   "execution_count": 21,
   "metadata": {},
   "outputs": [],
   "source": [
    "n_cases = cars.shape[0]\n",
    "lppd = logsumexp(logprob, 1) - jnp.log(n_samples)"
   ]
  },
  {
   "cell_type": "markdown",
   "metadata": {},
   "source": [
    "### Code 7.22"
   ]
  },
  {
   "cell_type": "code",
   "execution_count": 22,
   "metadata": {},
   "outputs": [],
   "source": [
    "pWAIC = jnp.var(logprob, 1)"
   ]
  },
  {
   "cell_type": "markdown",
   "metadata": {},
   "source": [
    "### Code 7.23"
   ]
  },
  {
   "cell_type": "code",
   "execution_count": 23,
   "metadata": {},
   "outputs": [
    {
     "data": {
      "text/plain": [
       "DeviceArray(422.99088, dtype=float32)"
      ]
     },
     "execution_count": 24,
     "metadata": {},
     "output_type": "execute_result"
    }
   ],
   "source": [
    "-2 * (jnp.sum(lppd) - jnp.sum(pWAIC))"
   ]
  },
  {
   "cell_type": "markdown",
   "metadata": {},
   "source": [
    "### Code 7.24"
   ]
  },
  {
   "cell_type": "code",
   "execution_count": 24,
   "metadata": {},
   "outputs": [
    {
     "data": {
      "text/plain": [
       "DeviceArray(17.235405, dtype=float32)"
      ]
     },
     "execution_count": 25,
     "metadata": {},
     "output_type": "execute_result"
    }
   ],
   "source": [
    "waic_vec = -2 * (lppd - pWAIC)\n",
    "jnp.sqrt(n_cases * jnp.var(waic_vec))"
   ]
  },
  {
   "cell_type": "markdown",
   "metadata": {},
   "source": [
    "### Code 7.25"
   ]
  },
  {
   "cell_type": "code",
   "execution_count": 25,
   "metadata": {},
   "outputs": [
    {
     "name": "stderr",
     "output_type": "stream",
     "text": [
      "100%|██████████| 1000/1000 [00:00<00:00, 1252.99it/s, init loss: 279.8950, avg. loss [951-1000]: 204.3793]\n",
      "100%|██████████| 1000/1000 [00:01<00:00, 821.21it/s, init loss: 151456.4062, avg. loss [951-1000]: 168.2294]\n",
      "100%|██████████| 1000/1000 [00:01<00:00, 981.14it/s, init loss: 87469.1172, avg. loss [951-1000]: 198.4736]\n",
      "UserWarning: For one or more samples the posterior variance of the log predictive densities exceeds 0.4. This could be indication of WAIC starting to fail. \n",
      "See http://arxiv.org/abs/1507.04544 for details\n"
     ]
    },
    {
     "data": {
      "text/plain": [
       "Computed from 1000 by 100 log-likelihood matrix\n",
       "\n",
       "              Estimate       SE\n",
       "deviance_waic   337.37    11.86\n",
       "p_waic            3.36        -\n",
       "\n",
       "There has been a warning during the calculation. Please check the results."
      ]
     },
     "execution_count": 26,
     "metadata": {},
     "output_type": "execute_result"
    }
   ],
   "source": [
    "with numpyro.handlers.seed(rng_seed=71):\n",
    "    # number of plants\n",
    "    N = 100\n",
    "\n",
    "    # simulate initial heights\n",
    "    h0 = numpyro.sample(\"h0\", dist.Normal(10, 2).expand([N]))\n",
    "\n",
    "    # assign treatments and simulate fungus and growth\n",
    "    treatment = jnp.repeat(jnp.arange(2), repeats=N // 2)\n",
    "    fungus = numpyro.sample(\n",
    "        \"fungus\", dist.Binomial(total_count=1, probs=(0.5 - treatment * 0.4))\n",
    "    )\n",
    "    h1 = h0 + numpyro.sample(\"diff\", dist.Normal(5 - 3 * fungus))\n",
    "\n",
    "    # compose a clean data frame\n",
    "    d = pd.DataFrame({\"h0\": h0, \"h1\": h1, \"treatment\": treatment, \"fungus\": fungus})\n",
    "\n",
    "\n",
    "def model(h0, h1):\n",
    "    p = numpyro.sample(\"p\", dist.LogNormal(0, 0.25))\n",
    "    sigma = numpyro.sample(\"sigma\", dist.Exponential(1))\n",
    "    mu = h0 * p\n",
    "    numpyro.sample(\"h1\", dist.Normal(mu, sigma), obs=h1)\n",
    "\n",
    "\n",
    "m6_6 = AutoLaplaceApproximation(model)\n",
    "svi = SVI(model, m6_6, optim.Adam(0.1), Trace_ELBO(), h0=d.h0.values, h1=d.h1.values)\n",
    "svi_result = svi.run(random.PRNGKey(0), 1000)\n",
    "p6_6 = svi_result.params\n",
    "\n",
    "\n",
    "def model(treatment, fungus, h0, h1):\n",
    "    a = numpyro.sample(\"a\", dist.LogNormal(0, 0.2))\n",
    "    bt = numpyro.sample(\"bt\", dist.Normal(0, 0.5))\n",
    "    bf = numpyro.sample(\"bf\", dist.Normal(0, 0.5))\n",
    "    sigma = numpyro.sample(\"sigma\", dist.Exponential(1))\n",
    "    p = a + bt * treatment + bf * fungus\n",
    "    mu = h0 * p\n",
    "    numpyro.sample(\"h1\", dist.Normal(mu, sigma), obs=h1)\n",
    "\n",
    "\n",
    "m6_7 = AutoLaplaceApproximation(model)\n",
    "svi = SVI(\n",
    "    model,\n",
    "    m6_7,\n",
    "    optim.Adam(0.3),\n",
    "    Trace_ELBO(),\n",
    "    treatment=d.treatment.values,\n",
    "    fungus=d.fungus.values,\n",
    "    h0=d.h0.values,\n",
    "    h1=d.h1.values,\n",
    ")\n",
    "svi_result = svi.run(random.PRNGKey(0), 1000)\n",
    "p6_7 = svi_result.params\n",
    "\n",
    "\n",
    "def model(treatment, h0, h1):\n",
    "    a = numpyro.sample(\"a\", dist.LogNormal(0, 0.2))\n",
    "    bt = numpyro.sample(\"bt\", dist.Normal(0, 0.5))\n",
    "    sigma = numpyro.sample(\"sigma\", dist.Exponential(1))\n",
    "    p = a + bt * treatment\n",
    "    mu = h0 * p\n",
    "    numpyro.sample(\"h1\", dist.Normal(mu, sigma), obs=h1)\n",
    "\n",
    "\n",
    "m6_8 = AutoLaplaceApproximation(model)\n",
    "svi = SVI(\n",
    "    model,\n",
    "    m6_8,\n",
    "    optim.Adam(1),\n",
    "    Trace_ELBO(),\n",
    "    treatment=d.treatment.values,\n",
    "    h0=d.h0.values,\n",
    "    h1=d.h1.values,\n",
    ")\n",
    "svi_result = svi.run(random.PRNGKey(0), 1000)\n",
    "p6_8 = svi_result.params\n",
    "\n",
    "post = m6_7.sample_posterior(random.PRNGKey(11), p6_7, sample_shape=(1000,))\n",
    "logprob = log_likelihood(\n",
    "    m6_7.model,\n",
    "    post,\n",
    "    treatment=d.treatment.values,\n",
    "    fungus=d.fungus.values,\n",
    "    h0=d.h0.values,\n",
    "    h1=d.h1.values,\n",
    ")\n",
    "az6_7 = az.from_dict(sample_stats={\"log_likelihood\": logprob[\"h1\"][None, ...]})\n",
    "az.waic(az6_7, scale=\"deviance\")"
   ]
  },
  {
   "cell_type": "markdown",
   "metadata": {},
   "source": [
    "### Code 7.26"
   ]
  },
  {
   "cell_type": "code",
   "execution_count": 26,
   "metadata": {},
   "outputs": [
    {
     "name": "stderr",
     "output_type": "stream",
     "text": [
      "UserWarning: The default method used to estimate the weights for each model,has changed from BB-pseudo-BMA to stacking\n",
      "UserWarning: For one or more samples the posterior variance of the log predictive densities exceeds 0.4. This could be indication of WAIC starting to fail. \n",
      "See http://arxiv.org/abs/1507.04544 for details\n",
      "UserWarning: For one or more samples the posterior variance of the log predictive densities exceeds 0.4. This could be indication of WAIC starting to fail. \n",
      "See http://arxiv.org/abs/1507.04544 for details\n"
     ]
    },
    {
     "data": {
      "text/html": [
       "<div>\n",
       "<style scoped>\n",
       "    .dataframe tbody tr th:only-of-type {\n",
       "        vertical-align: middle;\n",
       "    }\n",
       "\n",
       "    .dataframe tbody tr th {\n",
       "        vertical-align: top;\n",
       "    }\n",
       "\n",
       "    .dataframe thead th {\n",
       "        text-align: right;\n",
       "    }\n",
       "</style>\n",
       "<table border=\"1\" class=\"dataframe\">\n",
       "  <thead>\n",
       "    <tr style=\"text-align: right;\">\n",
       "      <th></th>\n",
       "      <th>rank</th>\n",
       "      <th>waic</th>\n",
       "      <th>p_waic</th>\n",
       "      <th>d_waic</th>\n",
       "      <th>weight</th>\n",
       "      <th>se</th>\n",
       "      <th>dse</th>\n",
       "      <th>warning</th>\n",
       "      <th>waic_scale</th>\n",
       "    </tr>\n",
       "  </thead>\n",
       "  <tbody>\n",
       "    <tr>\n",
       "      <th>m6.7</th>\n",
       "      <td>0</td>\n",
       "      <td>337.244430</td>\n",
       "      <td>3.308165</td>\n",
       "      <td>0.000000</td>\n",
       "      <td>1.000000e+00</td>\n",
       "      <td>11.844569</td>\n",
       "      <td>0.000000</td>\n",
       "      <td>True</td>\n",
       "      <td>deviance</td>\n",
       "    </tr>\n",
       "    <tr>\n",
       "      <th>m6.8</th>\n",
       "      <td>1</td>\n",
       "      <td>399.758470</td>\n",
       "      <td>3.089429</td>\n",
       "      <td>62.514039</td>\n",
       "      <td>0.000000e+00</td>\n",
       "      <td>14.941817</td>\n",
       "      <td>13.865603</td>\n",
       "      <td>True</td>\n",
       "      <td>deviance</td>\n",
       "    </tr>\n",
       "    <tr>\n",
       "      <th>m6.6</th>\n",
       "      <td>2</td>\n",
       "      <td>409.200795</td>\n",
       "      <td>1.712087</td>\n",
       "      <td>71.956364</td>\n",
       "      <td>7.406298e-12</td>\n",
       "      <td>12.402004</td>\n",
       "      <td>12.789497</td>\n",
       "      <td>False</td>\n",
       "      <td>deviance</td>\n",
       "    </tr>\n",
       "  </tbody>\n",
       "</table>\n",
       "</div>"
      ],
      "text/plain": [
       "      rank        waic    p_waic     d_waic        weight         se  \\\n",
       "m6.7     0  337.244430  3.308165   0.000000  1.000000e+00  11.844569   \n",
       "m6.8     1  399.758470  3.089429  62.514039  0.000000e+00  14.941817   \n",
       "m6.6     2  409.200795  1.712087  71.956364  7.406298e-12  12.402004   \n",
       "\n",
       "            dse  warning waic_scale  \n",
       "m6.7   0.000000     True   deviance  \n",
       "m6.8  13.865603     True   deviance  \n",
       "m6.6  12.789497    False   deviance  "
      ]
     },
     "execution_count": 27,
     "metadata": {},
     "output_type": "execute_result"
    }
   ],
   "source": [
    "post = m6_6.sample_posterior(random.PRNGKey(77), p6_6, sample_shape=(1000,))\n",
    "logprob = log_likelihood(m6_6.model, post, h0=d.h0.values, h1=d.h1.values)\n",
    "az6_6 = az.from_dict({}, log_likelihood={\"h1\": logprob[\"h1\"][None, ...]})\n",
    "post = m6_7.sample_posterior(random.PRNGKey(77), p6_7, sample_shape=(1000,))\n",
    "logprob = log_likelihood(\n",
    "    m6_7.model,\n",
    "    post,\n",
    "    treatment=d.treatment.values,\n",
    "    fungus=d.fungus.values,\n",
    "    h0=d.h0.values,\n",
    "    h1=d.h1.values,\n",
    ")\n",
    "az6_7 = az.from_dict({}, log_likelihood={\"h1\": logprob[\"h1\"][None, ...]})\n",
    "post = m6_8.sample_posterior(random.PRNGKey(77), p6_8, sample_shape=(1000,))\n",
    "logprob = log_likelihood(\n",
    "    m6_8.model, post, treatment=d.treatment.values, h0=d.h0.values, h1=d.h1.values\n",
    ")\n",
    "az6_8 = az.from_dict({}, log_likelihood={\"h1\": logprob[\"h1\"][None, ...]})\n",
    "az.compare({\"m6.6\": az6_6, \"m6.7\": az6_7, \"m6.8\": az6_8}, ic=\"waic\", scale=\"deviance\")"
   ]
  },
  {
   "cell_type": "markdown",
   "metadata": {},
   "source": [
    "### Code 7.27"
   ]
  },
  {
   "cell_type": "code",
   "execution_count": 27,
   "metadata": {},
   "outputs": [
    {
     "name": "stderr",
     "output_type": "stream",
     "text": [
      "UserWarning: For one or more samples the posterior variance of the log predictive densities exceeds 0.4. This could be indication of WAIC starting to fail. \n",
      "See http://arxiv.org/abs/1507.04544 for details\n",
      "UserWarning: For one or more samples the posterior variance of the log predictive densities exceeds 0.4. This could be indication of WAIC starting to fail. \n",
      "See http://arxiv.org/abs/1507.04544 for details\n"
     ]
    },
    {
     "data": {
      "text/plain": [
       "DeviceArray(13.789175, dtype=float32)"
      ]
     },
     "execution_count": 28,
     "metadata": {},
     "output_type": "execute_result"
    }
   ],
   "source": [
    "post = m6_7.sample_posterior(random.PRNGKey(91), p6_7, sample_shape=(1000,))\n",
    "logprob = log_likelihood(\n",
    "    m6_7.model,\n",
    "    post,\n",
    "    treatment=d.treatment.values,\n",
    "    fungus=d.fungus.values,\n",
    "    h0=d.h0.values,\n",
    "    h1=d.h1.values,\n",
    ")\n",
    "az6_7 = az.from_dict({}, log_likelihood={\"h1\": logprob[\"h1\"][None, ...]})\n",
    "waic_m6_7 = az.waic(az6_7, pointwise=True, scale=\"deviance\")\n",
    "post = m6_8.sample_posterior(random.PRNGKey(91), p6_8, sample_shape=(1000,))\n",
    "logprob = log_likelihood(\n",
    "    m6_8.model, post, treatment=d.treatment.values, h0=d.h0.values, h1=d.h1.values\n",
    ")\n",
    "az6_8 = az.from_dict({}, log_likelihood={\"h1\": logprob[\"h1\"][None, ...]})\n",
    "waic_m6_8 = az.waic(az6_8, pointwise=True, scale=\"deviance\")\n",
    "n = waic_m6_7.n_data_points\n",
    "diff_m6_7_m6_8 = waic_m6_7.waic_i.values - waic_m6_8.waic_i.values\n",
    "jnp.sqrt(n * jnp.var(diff_m6_7_m6_8))"
   ]
  },
  {
   "cell_type": "markdown",
   "metadata": {},
   "source": [
    "### Code 7.28"
   ]
  },
  {
   "cell_type": "code",
   "execution_count": 28,
   "metadata": {},
   "outputs": [
    {
     "data": {
      "text/plain": [
       "DeviceArray([12.960003, 67.03999 ], dtype=float32, weak_type=True)"
      ]
     },
     "execution_count": 29,
     "metadata": {},
     "output_type": "execute_result"
    }
   ],
   "source": [
    "40.0 + jnp.array([-1, 1]) * 10.4 * 2.6"
   ]
  },
  {
   "cell_type": "markdown",
   "metadata": {},
   "source": [
    "### Code 7.29"
   ]
  },
  {
   "cell_type": "code",
   "execution_count": 29,
   "metadata": {},
   "outputs": [
    {
     "name": "stderr",
     "output_type": "stream",
     "text": [
      "UserWarning: The default method used to estimate the weights for each model,has changed from BB-pseudo-BMA to stacking\n",
      "UserWarning: For one or more samples the posterior variance of the log predictive densities exceeds 0.4. This could be indication of WAIC starting to fail. \n",
      "See http://arxiv.org/abs/1507.04544 for details\n",
      "UserWarning: For one or more samples the posterior variance of the log predictive densities exceeds 0.4. This could be indication of WAIC starting to fail. \n",
      "See http://arxiv.org/abs/1507.04544 for details\n"
     ]
    },
    {
     "data": {
      "image/png": "[encoded data removed]",
      "text/plain": [
       "<Figure size 600x300 with 1 Axes>"
      ]
     },
     "metadata": {},
     "output_type": "display_data"
    }
   ],
   "source": [
    "compare = az.compare(\n",
    "    {\"m6.6\": az6_6, \"m6.7\": az6_7, \"m6.8\": az6_8}, ic=\"waic\", scale=\"deviance\"\n",
    ")\n",
    "az.plot_compare(compare)\n",
    "plt.show()"
   ]
  },
  {
   "cell_type": "markdown",
   "metadata": {},
   "source": [
    "### Code 7.30"
   ]
  },
  {
   "cell_type": "code",
   "execution_count": 30,
   "metadata": {},
   "outputs": [
    {
     "data": {
      "text/plain": [
       "DeviceArray(7.524193, dtype=float32)"
      ]
     },
     "execution_count": 31,
     "metadata": {},
     "output_type": "execute_result"
    }
   ],
   "source": [
    "post = m6_6.sample_posterior(random.PRNGKey(92), p6_6, sample_shape=(1000,))\n",
    "logprob = log_likelihood(m6_6.model, post, h0=d.h0.values, h1=d.h1.values)\n",
    "az6_6 = az.from_dict({}, log_likelihood={\"h1\": logprob[\"h1\"][None, ...]})\n",
    "waic_m6_6 = az.waic(az6_6, pointwise=True, scale=\"deviance\")\n",
    "diff_m6_6_m6_8 = waic_m6_6.waic_i.values - waic_m6_8.waic_i.values\n",
    "jnp.sqrt(n * jnp.var(diff_m6_6_m6_8))"
   ]
  },
  {
   "cell_type": "markdown",
   "metadata": {},
   "source": [
    "### Code 7.31"
   ]
  },
  {
   "cell_type": "code",
   "execution_count": 31,
   "metadata": {},
   "outputs": [
    {
     "name": "stderr",
     "output_type": "stream",
     "text": [
      "UserWarning: For one or more samples the posterior variance of the log predictive densities exceeds 0.4. This could be indication of WAIC starting to fail. \n",
      "See http://arxiv.org/abs/1507.04544 for details\n",
      "UserWarning: For one or more samples the posterior variance of the log predictive densities exceeds 0.4. This could be indication of WAIC starting to fail. \n",
      "See http://arxiv.org/abs/1507.04544 for details\n"
     ]
    },
    {
     "data": {
      "text/html": [
       "<div>\n",
       "<style scoped>\n",
       "    .dataframe tbody tr th:only-of-type {\n",
       "        vertical-align: middle;\n",
       "    }\n",
       "\n",
       "    .dataframe tbody tr th {\n",
       "        vertical-align: top;\n",
       "    }\n",
       "\n",
       "    .dataframe thead th {\n",
       "        text-align: right;\n",
       "    }\n",
       "</style>\n",
       "<table border=\"1\" class=\"dataframe\">\n",
       "  <thead>\n",
       "    <tr style=\"text-align: right;\">\n",
       "      <th></th>\n",
       "      <th>m6.6</th>\n",
       "      <th>m6.7</th>\n",
       "      <th>m6.8</th>\n",
       "    </tr>\n",
       "  </thead>\n",
       "  <tbody>\n",
       "    <tr>\n",
       "      <th>m6.6</th>\n",
       "      <td>0.0</td>\n",
       "      <td>12.7080345</td>\n",
       "      <td>7.5581884</td>\n",
       "    </tr>\n",
       "    <tr>\n",
       "      <th>m6.7</th>\n",
       "      <td>12.7080345</td>\n",
       "      <td>0.0</td>\n",
       "      <td>13.690906</td>\n",
       "    </tr>\n",
       "    <tr>\n",
       "      <th>m6.8</th>\n",
       "      <td>7.5581884</td>\n",
       "      <td>13.690906</td>\n",
       "      <td>0.0</td>\n",
       "    </tr>\n",
       "  </tbody>\n",
       "</table>\n",
       "</div>"
      ],
      "text/plain": [
       "            m6.6        m6.7       m6.8\n",
       "m6.6         0.0  12.7080345  7.5581884\n",
       "m6.7  12.7080345         0.0  13.690906\n",
       "m6.8   7.5581884   13.690906        0.0"
      ]
     },
     "execution_count": 32,
     "metadata": {},
     "output_type": "execute_result"
    }
   ],
   "source": [
    "post = m6_6.sample_posterior(random.PRNGKey(93), p6_6, sample_shape=(1000,))\n",
    "logprob = log_likelihood(m6_6.model, post, h0=d.h0.values, h1=d.h1.values)\n",
    "az6_6 = az.from_dict({}, log_likelihood={\"h1\": logprob[\"h1\"][None, ...]})\n",
    "waic_m6_6 = az.waic(az6_6, pointwise=True, scale=\"deviance\")\n",
    "post = m6_7.sample_posterior(random.PRNGKey(93), p6_7, sample_shape=(1000,))\n",
    "logprob = log_likelihood(\n",
    "    m6_7.model,\n",
    "    post,\n",
    "    treatment=d.treatment.values,\n",
    "    fungus=d.fungus.values,\n",
    "    h0=d.h0.values,\n",
    "    h1=d.h1.values,\n",
    ")\n",
    "az6_7 = az.from_dict({}, log_likelihood={\"h1\": logprob[\"h1\"][None, ...]})\n",
    "waic_m6_7 = az.waic(az6_7, pointwise=True, scale=\"deviance\")\n",
    "post = m6_8.sample_posterior(random.PRNGKey(93), p6_8, sample_shape=(1000,))\n",
    "logprob = log_likelihood(\n",
    "    m6_8.model, post, treatment=d.treatment.values, h0=d.h0.values, h1=d.h1.values\n",
    ")\n",
    "az6_8 = az.from_dict({}, log_likelihood={\"h1\": logprob[\"h1\"][None, ...]})\n",
    "waic_m6_8 = az.waic(az6_8, pointwise=True, scale=\"deviance\")\n",
    "dSE = lambda waic1, waic2: jnp.sqrt(\n",
    "    n * jnp.var(waic1.waic_i.values - waic2.waic_i.values)\n",
    ")\n",
    "data = {\"m6.6\": waic_m6_6, \"m6.7\": waic_m6_7, \"m6.8\": waic_m6_8}\n",
    "pd.DataFrame(\n",
    "    {\n",
    "        row: {col: dSE(row_val, col_val) for col, col_val in data.items()}\n",
    "        for row, row_val in data.items()\n",
    "    }\n",
    ")"
   ]
  },
  {
   "cell_type": "markdown",
   "metadata": {},
   "source": [
    "### Code 7.32"
   ]
  },
  {
   "cell_type": "code",
   "execution_count": 32,
   "metadata": {},
   "outputs": [
    {
     "name": "stderr",
     "output_type": "stream",
     "text": [
      "100%|██████████| 1000/1000 [00:00<00:00, 1334.71it/s, init loss: 2138.6682, avg. loss [951-1000]: 60.6515]\n",
      "100%|██████████| 1000/1000 [00:00<00:00, 1365.18it/s, init loss: 962.7464, avg. loss [951-1000]: 67.4809]\n",
      "100%|██████████| 1000/1000 [00:00<00:00, 1106.15it/s, init loss: 3201.7393, avg. loss [951-1000]: 60.7879]\n"
     ]
    }
   ],
   "source": [
    "WaffleDivorce = pd.read_csv(\"../data/WaffleDivorce.csv\", sep=\";\")\n",
    "d = WaffleDivorce\n",
    "d[\"A\"] = d.MedianAgeMarriage.pipe(lambda x: (x - x.mean()) / x.std())\n",
    "d[\"D\"] = d.Divorce.pipe(lambda x: (x - x.mean()) / x.std())\n",
    "d[\"M\"] = d.Marriage.pipe(lambda x: (x - x.mean()) / x.std())\n",
    "\n",
    "\n",
    "def model(A, D=None):\n",
    "    a = numpyro.sample(\"a\", dist.Normal(0, 0.2))\n",
    "    bA = numpyro.sample(\"bA\", dist.Normal(0, 0.5))\n",
    "    sigma = numpyro.sample(\"sigma\", dist.Exponential(1))\n",
    "    mu = numpyro.deterministic(\"mu\", a + bA * A)\n",
    "    numpyro.sample(\"D\", dist.Normal(mu, sigma), obs=D)\n",
    "\n",
    "\n",
    "m5_1 = AutoLaplaceApproximation(model)\n",
    "svi = SVI(model, m5_1, optim.Adam(1), Trace_ELBO(), A=d.A.values, D=d.D.values)\n",
    "svi_result = svi.run(random.PRNGKey(0), 1000)\n",
    "p5_1 = svi_result.params\n",
    "\n",
    "\n",
    "def model(M, D=None):\n",
    "    a = numpyro.sample(\"a\", dist.Normal(0, 0.2))\n",
    "    bM = numpyro.sample(\"bM\", dist.Normal(0, 0.5))\n",
    "    sigma = numpyro.sample(\"sigma\", dist.Exponential(1))\n",
    "    mu = a + bM * M\n",
    "    numpyro.sample(\"D\", dist.Normal(mu, sigma), obs=D)\n",
    "\n",
    "\n",
    "m5_2 = AutoLaplaceApproximation(model)\n",
    "svi = SVI(model, m5_2, optim.Adam(1), Trace_ELBO(), M=d.M.values, D=d.D.values)\n",
    "svi_result = svi.run(random.PRNGKey(0), 1000)\n",
    "p5_2 = svi_result.params\n",
    "\n",
    "\n",
    "def model(M, A, D=None):\n",
    "    a = numpyro.sample(\"a\", dist.Normal(0, 0.2))\n",
    "    bM = numpyro.sample(\"bM\", dist.Normal(0, 0.5))\n",
    "    bA = numpyro.sample(\"bA\", dist.Normal(0, 0.5))\n",
    "    sigma = numpyro.sample(\"sigma\", dist.Exponential(1))\n",
    "    mu = numpyro.deterministic(\"mu\", a + bM * M + bA * A)\n",
    "    numpyro.sample(\"D\", dist.Normal(mu, sigma), obs=D)\n",
    "\n",
    "\n",
    "m5_3 = AutoLaplaceApproximation(model)\n",
    "svi = SVI(\n",
    "    model, m5_3, optim.Adam(1), Trace_ELBO(), M=d.M.values, A=d.A.values, D=d.D.values\n",
    ")\n",
    "svi_result = svi.run(random.PRNGKey(0), 1000)\n",
    "p5_3 = svi_result.params"
   ]
  },
  {
   "cell_type": "markdown",
   "metadata": {},
   "source": [
    "### Code 7.33"
   ]
  },
  {
   "cell_type": "code",
   "execution_count": 33,
   "metadata": {},
   "outputs": [
    {
     "name": "stderr",
     "output_type": "stream",
     "text": [
      "UserWarning: The default method used to estimate the weights for each model,has changed from BB-pseudo-BMA to stacking\n",
      "UserWarning: For one or more samples the posterior variance of the log predictive densities exceeds 0.4. This could be indication of WAIC starting to fail. \n",
      "See http://arxiv.org/abs/1507.04544 for details\n",
      "UserWarning: For one or more samples the posterior variance of the log predictive densities exceeds 0.4. This could be indication of WAIC starting to fail. \n",
      "See http://arxiv.org/abs/1507.04544 for details\n",
      "UserWarning: For one or more samples the posterior variance of the log predictive densities exceeds 0.4. This could be indication of WAIC starting to fail. \n",
      "See http://arxiv.org/abs/1507.04544 for details\n"
     ]
    },
    {
     "data": {
      "text/html": [
       "<div>\n",
       "<style scoped>\n",
       "    .dataframe tbody tr th:only-of-type {\n",
       "        vertical-align: middle;\n",
       "    }\n",
       "\n",
       "    .dataframe tbody tr th {\n",
       "        vertical-align: top;\n",
       "    }\n",
       "\n",
       "    .dataframe thead th {\n",
       "        text-align: right;\n",
       "    }\n",
       "</style>\n",
       "<table border=\"1\" class=\"dataframe\">\n",
       "  <thead>\n",
       "    <tr style=\"text-align: right;\">\n",
       "      <th></th>\n",
       "      <th>rank</th>\n",
       "      <th>waic</th>\n",
       "      <th>p_waic</th>\n",
       "      <th>d_waic</th>\n",
       "      <th>weight</th>\n",
       "      <th>se</th>\n",
       "      <th>dse</th>\n",
       "      <th>warning</th>\n",
       "      <th>waic_scale</th>\n",
       "    </tr>\n",
       "  </thead>\n",
       "  <tbody>\n",
       "    <tr>\n",
       "      <th>m5.1</th>\n",
       "      <td>0</td>\n",
       "      <td>126.515847</td>\n",
       "      <td>4.108174</td>\n",
       "      <td>0.000000</td>\n",
       "      <td>8.879604e-01</td>\n",
       "      <td>13.580529</td>\n",
       "      <td>0.000000</td>\n",
       "      <td>True</td>\n",
       "      <td>deviance</td>\n",
       "    </tr>\n",
       "    <tr>\n",
       "      <th>m5.3</th>\n",
       "      <td>1</td>\n",
       "      <td>128.609601</td>\n",
       "      <td>5.490680</td>\n",
       "      <td>2.093754</td>\n",
       "      <td>5.354823e-15</td>\n",
       "      <td>14.173850</td>\n",
       "      <td>1.047467</td>\n",
       "      <td>True</td>\n",
       "      <td>deviance</td>\n",
       "    </tr>\n",
       "    <tr>\n",
       "      <th>m5.2</th>\n",
       "      <td>2</td>\n",
       "      <td>139.775924</td>\n",
       "      <td>3.282653</td>\n",
       "      <td>13.260077</td>\n",
       "      <td>1.120396e-01</td>\n",
       "      <td>10.458673</td>\n",
       "      <td>9.845431</td>\n",
       "      <td>True</td>\n",
       "      <td>deviance</td>\n",
       "    </tr>\n",
       "  </tbody>\n",
       "</table>\n",
       "</div>"
      ],
      "text/plain": [
       "      rank        waic    p_waic     d_waic        weight         se  \\\n",
       "m5.1     0  126.515847  4.108174   0.000000  8.879604e-01  13.580529   \n",
       "m5.3     1  128.609601  5.490680   2.093754  5.354823e-15  14.173850   \n",
       "m5.2     2  139.775924  3.282653  13.260077  1.120396e-01  10.458673   \n",
       "\n",
       "           dse  warning waic_scale  \n",
       "m5.1  0.000000     True   deviance  \n",
       "m5.3  1.047467     True   deviance  \n",
       "m5.2  9.845431     True   deviance  "
      ]
     },
     "execution_count": 34,
     "metadata": {},
     "output_type": "execute_result"
    }
   ],
   "source": [
    "post = m5_1.sample_posterior(random.PRNGKey(24071847), p5_1, sample_shape=(1000,))\n",
    "logprob = log_likelihood(m5_1.model, post, A=d.A.values, D=d.D.values)[\"D\"]\n",
    "az5_1 = az.from_dict(\n",
    "    posterior={k: v[None, ...] for k, v in post.items()},\n",
    "    log_likelihood={\"D\": logprob[None, ...]},\n",
    ")\n",
    "post = m5_2.sample_posterior(random.PRNGKey(24071847), p5_2, sample_shape=(1000,))\n",
    "logprob = log_likelihood(m5_2.model, post, M=d.M.values, D=d.D.values)[\"D\"]\n",
    "az5_2 = az.from_dict(\n",
    "    posterior={k: v[None, ...] for k, v in post.items()},\n",
    "    log_likelihood={\"D\": logprob[None, ...]},\n",
    ")\n",
    "post = m5_3.sample_posterior(random.PRNGKey(24071847), p5_3, sample_shape=(1000,))\n",
    "logprob = log_likelihood(m5_3.model, post, A=d.A.values, M=d.M.values, D=d.D.values)[\n",
    "    \"D\"\n",
    "]\n",
    "az5_3 = az.from_dict(\n",
    "    posterior={k: v[None, ...] for k, v in post.items()},\n",
    "    log_likelihood={\"D\": logprob[None, ...]},\n",
    ")\n",
    "az.compare({\"m5.1\": az5_1, \"m5.2\": az5_2, \"m5.3\": az5_3}, ic=\"waic\", scale=\"deviance\")"
   ]
  },
  {
   "cell_type": "markdown",
   "metadata": {},
   "source": [
    "### Code 7.34"
   ]
  },
  {
   "cell_type": "code",
   "execution_count": 34,
   "metadata": {},
   "outputs": [
    {
     "name": "stderr",
     "output_type": "stream",
     "text": [
      "UserWarning: Estimated shape parameter of Pareto distribution is greater than 0.7 for one or more samples. You should consider using a more robust model, this is because importance sampling is less likely to work well if the marginal posterior and LOO posterior are very different. This is more likely to happen with a non-robust model and highly influential observations.\n",
      "UserWarning: For one or more samples the posterior variance of the log predictive densities exceeds 0.4. This could be indication of WAIC starting to fail. \n",
      "See http://arxiv.org/abs/1507.04544 for details\n"
     ]
    },
    {
     "data": {
      "image/png": "[encoded data removed]",
      "text/plain": [
       "<Figure size 720x480 with 1 Axes>"
      ]
     },
     "metadata": {},
     "output_type": "display_data"
    }
   ],
   "source": [
    "PSIS_m5_3 = az.loo(az5_3, pointwise=True, scale=\"deviance\")\n",
    "WAIC_m5_3 = az.waic(az5_3, pointwise=True, scale=\"deviance\")\n",
    "penalty = az5_3.log_likelihood.stack(sample=(\"chain\", \"draw\")).var(dim=\"sample\")\n",
    "plt.plot(PSIS_m5_3.pareto_k.values, penalty.D.values, \"o\", mfc=\"none\")\n",
    "plt.gca().set(xlabel=\"PSIS Pareto k\", ylabel=\"WAIC penalty\")\n",
    "plt.show()"
   ]
  },
  {
   "cell_type": "markdown",
   "metadata": {},
   "source": [
    "### Code 7.35"
   ]
  },
  {
   "cell_type": "code",
   "execution_count": 35,
   "metadata": {},
   "outputs": [
    {
     "name": "stderr",
     "output_type": "stream",
     "text": [
      "100%|██████████| 1000/1000 [00:00<00:00, 1067.98it/s, init loss: 194.5655, avg. loss [951-1000]: 63.3271]\n"
     ]
    }
   ],
   "source": [
    "def model(M, A, D=None):\n",
    "    a = numpyro.sample(\"a\", dist.Normal(0, 0.2))\n",
    "    bM = numpyro.sample(\"bM\", dist.Normal(0, 0.5))\n",
    "    bA = numpyro.sample(\"bA\", dist.Normal(0, 0.5))\n",
    "    sigma = numpyro.sample(\"sigma\", dist.Exponential(1))\n",
    "    mu = a + bM * M + bA * A\n",
    "    numpyro.sample(\"D\", dist.StudentT(2, mu, sigma), obs=D)\n",
    "\n",
    "\n",
    "m5_3t = AutoLaplaceApproximation(model)\n",
    "svi = SVI(\n",
    "    model,\n",
    "    m5_3t,\n",
    "    optim.Adam(0.3),\n",
    "    Trace_ELBO(),\n",
    "    M=d.M.values,\n",
    "    A=d.A.values,\n",
    "    D=d.D.values,\n",
    ")\n",
    "svi_result = svi.run(random.PRNGKey(0), 1000)\n",
    "p5_3t = svi_result.params"
   ]
  },
  {
   "cell_type": "markdown",
   "metadata": {
    "navigation": true
   },
   "source": [
    "<!-- NAVIGATION -->\n",
    "< [Chapter 6. The Haunted DAG & The Causal Terror](06-the-haunted-dag-and-the-causal-terror.html) | [Chapter 8. Conditional Manatees](08-conditional-manatees.html) >"
   ]
  }
 ],
 "metadata": {
  "anaconda-cloud": {},
  "kernelspec": {
   "display_name": "Python 3 (ipykernel)",
   "language": "python",
   "name": "python3"
  },
  "language_info": {
   "codemirror_mode": {
    "name": "ipython",
    "version": 3
   },
   "file_extension": ".py",
   "mimetype": "text/x-python",
   "name": "python",
   "nbconvert_exporter": "python",
   "pygments_lexer": "ipython3",
   "version": "3.11.6"
  },
  "nikola": {
   "title": "Chapter 7. Ulysses’ Compass"
  }
 },
 "nbformat": 4,
 "nbformat_minor": 4
}
