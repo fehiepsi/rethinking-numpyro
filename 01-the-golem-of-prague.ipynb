{
 "cells": [
  {
   "cell_type": "markdown",
   "metadata": {
    "navigation": true
   },
   "source": [
    "<!-- NAVIGATION -->\n",
    "< [Preface](00-preface.html) | [Chapter 2. Small Worlds and Large Worlds](02-small-worlds-and-large-worlds.html) >"
   ]
  },
  {
   "cell_type": "markdown",
   "metadata": {},
   "source": []
  },
  {
   "cell_type": "markdown",
   "metadata": {},
   "source": [
    "<div class=\"admonition note\">\n",
    "          <span style=\"white-space: nowrap;\">\n",
    "            <a href=\"https://colab.research.google.com/github/fehiepsi/rethinking-numpyro/blob/master/notebooks/01_the_golem_of_prague.ipynb\">\n",
    "              <img alt=\"Open In Colab\"\n",
    "                src=\"https://colab.research.google.com/assets/colab-badge.svg\"\n",
    "                style=\"vertical-align:text-bottom\">\n",
    "            </a>\n",
    "          </span>\n",
    "        </div>"
   ]
  },
  {
   "cell_type": "markdown",
   "metadata": {},
   "source": [
    "**There are no codes in this chapter.**"
   ]
  },
  {
   "cell_type": "markdown",
   "metadata": {
    "navigation": true
   },
   "source": [
    "<!-- NAVIGATION -->\n",
    "< [Preface](00-preface.html) | [Chapter 2. Small Worlds and Large Worlds](02-small-worlds-and-large-worlds.html) >"
   ]
  }
 ],
 "metadata": {
  "kernelspec": {
   "display_name": "Python 3 (ipykernel)",
   "language": "python",
   "name": "python3"
  },
  "language_info": {
   "codemirror_mode": {
    "name": "ipython",
    "version": 3
   },
   "file_extension": ".py",
   "mimetype": "text/x-python",
   "name": "python",
   "nbconvert_exporter": "python",
   "pygments_lexer": "ipython3",
   "version": "3.11.6"
  },
  "nikola": {
   "title": "Chapter 1. The Golem of Prague"
  },
  "varInspector": {
   "cols": {
    "lenName": 16,
    "lenType": 16,
    "lenVar": 40
   },
   "kernels_config": {
    "python": {
     "delete_cmd_postfix": "",
     "delete_cmd_prefix": "del ",
     "library": "var_list.py",
     "varRefreshCmd": "print(var_dic_list())"
    },
    "r": {
     "delete_cmd_postfix": ") ",
     "delete_cmd_prefix": "rm(",
     "library": "var_list.r",
     "varRefreshCmd": "cat(var_dic_list()) "
    }
   },
   "types_to_exclude": [
    "module",
    "function",
    "builtin_function_or_method",
    "instance",
    "_Feature"
   ],
   "window_display": false
  }
 },
 "nbformat": 4,
 "nbformat_minor": 4
}
