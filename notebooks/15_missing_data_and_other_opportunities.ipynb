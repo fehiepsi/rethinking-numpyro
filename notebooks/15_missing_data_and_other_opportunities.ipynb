{
 "cells": [
  {
   "cell_type": "markdown",
   "metadata": {},
   "source": [
    "# Chapter 15. Missing Data and Other Opportunities"
   ]
  },
  {
   "cell_type": "code",
   "execution_count": null,
   "metadata": {},
   "outputs": [],
   "source": [
    "import math\n",
    "import os\n",
    "\n",
    "import arviz as az\n",
    "import matplotlib.pyplot as plt\n",
    "import numpy as np\n",
    "import pandas as pd\n",
    "\n",
    "import jax.numpy as jnp\n",
    "from jax import ops, random, vmap\n",
    "from jax.scipy.special import expit\n",
    "\n",
    "import numpyro\n",
    "import numpyro.distributions as dist\n",
    "from numpyro.diagnostics import print_summary\n",
    "from numpyro.distributions import constraints\n",
    "from numpyro.infer import MCMC, NUTS, init_to_value\n",
    "\n",
    "if \"SVG\" in os.environ:\n",
    "    %config InlineBackend.figure_formats = [\"svg\"]\n",
    "az.style.use(\"arviz-darkgrid\")\n",
    "numpyro.set_host_device_count(4)"
   ]
  },
  {
   "cell_type": "markdown",
   "metadata": {},
   "source": [
    "### Code 15.1"
   ]
  },
  {
   "cell_type": "code",
   "execution_count": null,
   "metadata": {},
   "outputs": [],
   "source": [
    "# simulate a pancake and return randomly ordered sides\n",
    "def sim_pancake(seed):\n",
    "    pancake = dist.Categorical(logits=jnp.ones(3)).sample(random.PRNGKey(2 * seed))\n",
    "    sides = jnp.array([1, 1, 1, 0, 0, 0]).reshape(3, 2).T[:, pancake]\n",
    "    return random.permutation(random.PRNGKey(2 * seed + 1), sides)\n",
    "\n",
    "\n",
    "# sim 10,000 pancakes\n",
    "pancakes = vmap(sim_pancake, out_axes=1)(jnp.arange(10000))\n",
    "up = pancakes[0]\n",
    "down = pancakes[1]\n",
    "\n",
    "# compute proportion 1/1 (BB) out of all 1/1 and 1/0\n",
    "num_11_10 = jnp.sum(up == 1)\n",
    "num_11 = jnp.sum((up == 1) & (down == 1))\n",
    "num_11 / num_11_10"
   ]
  },
  {
   "cell_type": "markdown",
   "metadata": {},
   "source": [
    "### Code 15.2"
   ]
  },
  {
   "cell_type": "code",
   "execution_count": null,
   "metadata": {},
   "outputs": [],
   "source": [
    "WaffleDivorce = pd.read_csv(\"../data/WaffleDivorce.csv\", sep=\";\")\n",
    "d = WaffleDivorce\n",
    "\n",
    "# points\n",
    "ax = az.plot_pair(\n",
    "    d[[\"MedianAgeMarriage\", \"Divorce\"]].to_dict(orient=\"list\"),\n",
    "    scatter_kwargs=dict(ms=15, mfc=\"none\"),\n",
    ")\n",
    "ax.set(ylim=(4, 15), xlabel=\"Median age marrage\", ylabel=\"Divorce rate\")\n",
    "\n",
    "# standard errors\n",
    "for i in range(d.shape[0]):\n",
    "    ci = d.Divorce[i] + jnp.array([-1, 1]) * d[\"Divorce SE\"][i]\n",
    "    x = d.MedianAgeMarriage[i]\n",
    "    plt.plot([x, x], ci, \"k\")"
   ]
  },
  {
   "cell_type": "markdown",
   "metadata": {},
   "source": [
    "### Code 15.3"
   ]
  },
  {
   "cell_type": "code",
   "execution_count": null,
   "metadata": {},
   "outputs": [],
   "source": [
    "dlist = dict(\n",
    "    D_obs=d.Divorce.pipe(lambda x: (x - x.mean()) / x.std()).values,\n",
    "    D_sd=d[\"Divorce SE\"].values / d.Divorce.std(),\n",
    "    M=d.Marriage.pipe(lambda x: (x - x.mean()) / x.std()).values,\n",
    "    A=d.MedianAgeMarriage.pipe(lambda x: (x - x.mean()) / x.std()).values,\n",
    "    N=d.shape[0],\n",
    ")\n",
    "\n",
    "\n",
    "def model(A, M, D_sd, D_obs, N):\n",
    "    a = numpyro.sample(\"a\", dist.Normal(0, 0.2))\n",
    "    bA = numpyro.sample(\"bA\", dist.Normal(0, 0.5))\n",
    "    bM = numpyro.sample(\"bM\", dist.Normal(0, 0.5))\n",
    "    sigma = numpyro.sample(\"sigma\", dist.Exponential(1))\n",
    "    mu = a + bA * A + bM * M\n",
    "    D_true = numpyro.sample(\"D_true\", dist.Normal(mu, sigma))\n",
    "    numpyro.sample(\"D_obs\", dist.Normal(D_true, D_sd), obs=D_obs)\n",
    "\n",
    "\n",
    "m15_1 = MCMC(NUTS(model), 500, 500, num_chains=4)\n",
    "m15_1.run(random.PRNGKey(0), **dlist)"
   ]
  },
  {
   "cell_type": "markdown",
   "metadata": {},
   "source": [
    "### Code 15.4"
   ]
  },
  {
   "cell_type": "code",
   "execution_count": null,
   "metadata": {},
   "outputs": [],
   "source": [
    "m15_1.print_summary(0.89)"
   ]
  },
  {
   "cell_type": "markdown",
   "metadata": {},
   "source": [
    "### Code 15.5"
   ]
  },
  {
   "cell_type": "code",
   "execution_count": null,
   "metadata": {},
   "outputs": [],
   "source": [
    "dlist = dict(\n",
    "    D_obs=d.Divorce.pipe(lambda x: (x - x.mean()) / x.std()).values,\n",
    "    D_sd=d[\"Divorce SE\"].values / d.Divorce.std(),\n",
    "    M_obs=d.Marriage.pipe(lambda x: (x - x.mean()) / x.std()).values,\n",
    "    M_sd=d[\"Marriage SE\"].values / d.Marriage.std(),\n",
    "    A=d.MedianAgeMarriage.pipe(lambda x: (x - x.mean()) / x.std()).values,\n",
    "    N=d.shape[0],\n",
    ")\n",
    "\n",
    "\n",
    "def model(A, M_sd, M_obs, D_sd, D_obs, N):\n",
    "    a = numpyro.sample(\"a\", dist.Normal(0, 0.2))\n",
    "    bA = numpyro.sample(\"bA\", dist.Normal(0, 0.5))\n",
    "    bM = numpyro.sample(\"bM\", dist.Normal(0, 0.5))\n",
    "    sigma = numpyro.sample(\"sigma\", dist.Exponential(1))\n",
    "    M_est = numpyro.sample(\"M_est\", dist.Normal(0, 1).expand([N]))\n",
    "    numpyro.sample(\"M_obs\", dist.Normal(M_est, M_sd), obs=M_obs)\n",
    "    mu = a + bA * A + bM * M_est\n",
    "    D_est = numpyro.sample(\"D_est\", dist.Normal(mu, sigma))\n",
    "    numpyro.sample(\"D_obs\", dist.Normal(D_est, D_sd), obs=D_obs)\n",
    "\n",
    "\n",
    "m15_2 = MCMC(NUTS(model), 500, 500, num_chains=4)\n",
    "m15_2.run(random.PRNGKey(0), **dlist)"
   ]
  },
  {
   "cell_type": "markdown",
   "metadata": {},
   "source": [
    "### Code 15.6"
   ]
  },
  {
   "cell_type": "code",
   "execution_count": null,
   "metadata": {},
   "outputs": [],
   "source": [
    "post = m15_2.get_samples()\n",
    "D_est = jnp.mean(post[\"D_est\"], 0)\n",
    "M_est = jnp.mean(post[\"M_est\"], 0)\n",
    "plt.plot(dlist[\"M_obs\"], dlist[\"D_obs\"], \"bo\", alpha=0.5)\n",
    "plt.gca().set(xlabel=\"marriage rate (std)\", ylabel=\"divorce rate (std)\")\n",
    "plt.plot(M_est, D_est, \"ko\", mfc=\"none\")\n",
    "for i in range(d.shape[0]):\n",
    "    plt.plot([dlist[\"M_obs\"][i], M_est[i]], [dlist[\"D_obs\"][i], D_est[i]], \"k-\", lw=1)"
   ]
  },
  {
   "cell_type": "markdown",
   "metadata": {},
   "source": [
    "### Code 15.7"
   ]
  },
  {
   "cell_type": "code",
   "execution_count": null,
   "metadata": {},
   "outputs": [],
   "source": [
    "N = 500\n",
    "A = dist.Normal().sample(random.PRNGKey(0), (N,))\n",
    "M = dist.Normal(-A).sample(random.PRNGKey(1))\n",
    "D = dist.Normal(A).sample(random.PRNGKey(2))\n",
    "A_obs = dist.Normal(A).sample(random.PRNGKey(3))"
   ]
  },
  {
   "cell_type": "markdown",
   "metadata": {},
   "source": [
    "### Code 15.8"
   ]
  },
  {
   "cell_type": "code",
   "execution_count": null,
   "metadata": {},
   "outputs": [],
   "source": [
    "N = 100\n",
    "S = dist.Normal().sample(random.PRNGKey(0), (N,))\n",
    "H = dist.Binomial(10, expit(S)).sample(random.PRNGKey(1))"
   ]
  },
  {
   "cell_type": "markdown",
   "metadata": {},
   "source": [
    "### Code 15.9"
   ]
  },
  {
   "cell_type": "code",
   "execution_count": null,
   "metadata": {},
   "outputs": [],
   "source": [
    "D = dist.Bernoulli(0.5).sample(random.PRNGKey(2), (N,))  # dogs completely random\n",
    "Hm = jnp.where(D == 1, jnp.nan, H)"
   ]
  },
  {
   "cell_type": "markdown",
   "metadata": {},
   "source": [
    "### Code 15.10"
   ]
  },
  {
   "cell_type": "code",
   "execution_count": null,
   "metadata": {},
   "outputs": [],
   "source": [
    "D = jnp.where(S > 0, 1, 0)\n",
    "Hm = jnp.where(D == 1, jnp.nan, H)"
   ]
  },
  {
   "cell_type": "markdown",
   "metadata": {},
   "source": [
    "### Code 15.11"
   ]
  },
  {
   "cell_type": "code",
   "execution_count": null,
   "metadata": {},
   "outputs": [],
   "source": [
    "with numpyro.handlers.seed(rng_seed=501):\n",
    "    N = 1000\n",
    "    X = numpyro.sample(\"X\", dist.Normal().expand([N]))\n",
    "    S = numpyro.sample(\"S\", dist.Normal().expand([N]))\n",
    "    H = numpyro.sample(\"H\", dist.Binomial(10, logits=2 + S - 2 * X))\n",
    "    D = jnp.where(X > 1, 1, 0)\n",
    "    Hm = jnp.where(D == 1, jnp.nan, H)"
   ]
  },
  {
   "cell_type": "markdown",
   "metadata": {},
   "source": [
    "### Code 15.12"
   ]
  },
  {
   "cell_type": "code",
   "execution_count": null,
   "metadata": {},
   "outputs": [],
   "source": [
    "dat_list = dict(H=H, S=S)\n",
    "\n",
    "\n",
    "def model(S, H):\n",
    "    a = numpyro.sample(\"a\", dist.Normal(0, 1))\n",
    "    bS = numpyro.sample(\"bS\", dist.Normal(0, 0.5))\n",
    "    logit_p = a + bS * S\n",
    "    numpyro.sample(\"H\", dist.Binomial(10, logits=logit_p), obs=H)\n",
    "\n",
    "\n",
    "m15_3 = MCMC(NUTS(model), 500, 500, num_chains=4)\n",
    "m15_3.run(random.PRNGKey(0), **dat_list)\n",
    "m15_3.print_summary()"
   ]
  },
  {
   "cell_type": "markdown",
   "metadata": {},
   "source": [
    "### Code 15.13"
   ]
  },
  {
   "cell_type": "code",
   "execution_count": null,
   "metadata": {},
   "outputs": [],
   "source": [
    "dat_list0 = dict(H=H[D == 0], S=S[D == 0])\n",
    "\n",
    "\n",
    "def model(S, H):\n",
    "    a = numpyro.sample(\"a\", dist.Normal(0, 1))\n",
    "    bS = numpyro.sample(\"bS\", dist.Normal(0, 0.5))\n",
    "    logit_p = a + bS * S\n",
    "    numpyro.sample(\"H\", dist.Binomial(10, logits=logit_p), obs=H)\n",
    "\n",
    "\n",
    "m15_4 = MCMC(NUTS(model), 500, 500, num_chains=4)\n",
    "m15_4.run(random.PRNGKey(0), **dat_list0)\n",
    "m15_4.print_summary()"
   ]
  },
  {
   "cell_type": "markdown",
   "metadata": {},
   "source": [
    "### Code 15.14"
   ]
  },
  {
   "cell_type": "code",
   "execution_count": null,
   "metadata": {},
   "outputs": [],
   "source": [
    "D = jnp.where(jnp.abs(X) < 1, 1, 0)"
   ]
  },
  {
   "cell_type": "markdown",
   "metadata": {},
   "source": [
    "### Code 15.15"
   ]
  },
  {
   "cell_type": "code",
   "execution_count": null,
   "metadata": {},
   "outputs": [],
   "source": [
    "N = 100\n",
    "S = dist.Normal().sample(random.PRNGKey(0), (N,))\n",
    "H = dist.Binomial(10, logits=S).sample(random.PRNGKey(1))\n",
    "D = jnp.where(H < 5, 1, 0)\n",
    "Hm = jnp.where(D == 1, jnp.nan, H)"
   ]
  },
  {
   "cell_type": "markdown",
   "metadata": {},
   "source": [
    "### Code 15.16"
   ]
  },
  {
   "cell_type": "code",
   "execution_count": null,
   "metadata": {},
   "outputs": [],
   "source": [
    "milk = pd.read_csv(\"../data/milk.csv\", sep=\";\")\n",
    "d = milk\n",
    "d[\"neocortex.prop\"] = d[\"neocortex.perc\"] / 100\n",
    "d[\"logmass\"] = d.mass.apply(math.log)"
   ]
  },
  {
   "cell_type": "markdown",
   "metadata": {},
   "source": [
    "### Code 15.17"
   ]
  },
  {
   "cell_type": "code",
   "execution_count": null,
   "metadata": {},
   "outputs": [],
   "source": [
    "dat_list = dict(\n",
    "    K=d[\"kcal.per.g\"].pipe(lambda x: (x - x.mean()) / x.std()).values,\n",
    "    B=d[\"neocortex.prop\"].pipe(lambda x: (x - x.mean()) / x.std()).values,\n",
    "    M=d.logmass.pipe(lambda x: (x - x.mean()) / x.std()).values,\n",
    ")\n",
    "\n",
    "\n",
    "def model(B, M, K):\n",
    "    a = numpyro.sample(\"a\", dist.Normal(0, 0.5))\n",
    "    nu = numpyro.sample(\"nu\", dist.Normal(0, 0.5))\n",
    "    bB = numpyro.sample(\"bB\", dist.Normal(0, 0.5))\n",
    "    bM = numpyro.sample(\"bM\", dist.Normal(0, 0.5))\n",
    "    sigma_B = numpyro.sample(\"sigma_B\", dist.Exponential(1))\n",
    "    sigma = numpyro.sample(\"sigma\", dist.Exponential(1))\n",
    "    B_impute = numpyro.sample(\n",
    "        \"B_impute\", dist.Normal(0, 1).expand([int(np.isnan(B).sum())]).mask(False)\n",
    "    )\n",
    "    B = ops.index_update(B, np.nonzero(np.isnan(B))[0], B_impute)\n",
    "    numpyro.sample(\"B\", dist.Normal(nu, sigma_B), obs=B)\n",
    "    mu = a + bB * B + bM * M\n",
    "    numpyro.sample(\"K\", dist.Normal(mu, sigma), obs=K)\n",
    "\n",
    "\n",
    "m15_5 = MCMC(NUTS(model), 500, 500, num_chains=4)\n",
    "m15_5.run(random.PRNGKey(0), **dat_list)"
   ]
  },
  {
   "cell_type": "markdown",
   "metadata": {},
   "source": [
    "### Code 15.18"
   ]
  },
  {
   "cell_type": "code",
   "execution_count": null,
   "metadata": {},
   "outputs": [],
   "source": [
    "m15_5.print_summary(0.89)"
   ]
  },
  {
   "cell_type": "markdown",
   "metadata": {},
   "source": [
    "### Code 15.19"
   ]
  },
  {
   "cell_type": "code",
   "execution_count": null,
   "metadata": {},
   "outputs": [],
   "source": [
    "obs_idx = d[\"neocortex.prop\"].notnull().values\n",
    "dat_list_obs = dict(\n",
    "    K=dat_list[\"K\"][obs_idx], B=dat_list[\"B\"][obs_idx], M=dat_list[\"M\"][obs_idx]\n",
    ")\n",
    "\n",
    "\n",
    "def model(B, M, K):\n",
    "    a = numpyro.sample(\"a\", dist.Normal(0, 0.5))\n",
    "    nu = numpyro.sample(\"nu\", dist.Normal(0, 0.5))\n",
    "    bB = numpyro.sample(\"bB\", dist.Normal(0, 0.5))\n",
    "    bM = numpyro.sample(\"bM\", dist.Normal(0, 0.5))\n",
    "    sigma_B = numpyro.sample(\"sigma_B\", dist.Exponential(1))\n",
    "    sigma = numpyro.sample(\"sigma\", dist.Exponential(1))\n",
    "    numpyro.sample(\"B\", dist.Normal(nu, sigma_B), obs=B)\n",
    "    mu = a + bB * B + bM * M\n",
    "    numpyro.sample(\"K\", dist.Normal(mu, sigma), obs=K)\n",
    "\n",
    "\n",
    "m15_6 = MCMC(NUTS(model), 500, 500, num_chains=4)\n",
    "m15_6.run(random.PRNGKey(0), **dat_list_obs)\n",
    "m15_6.print_summary(0.89)"
   ]
  },
  {
   "cell_type": "markdown",
   "metadata": {},
   "source": [
    "### Code 15.20"
   ]
  },
  {
   "cell_type": "code",
   "execution_count": null,
   "metadata": {},
   "outputs": [],
   "source": [
    "az.plot_forest(\n",
    "    [az.from_numpyro(m15_5), az.from_numpyro(m15_6)],\n",
    "    model_names=[\"m15.5\", \"m15.6\"],\n",
    "    var_names=[\"bB\", \"bM\"],\n",
    "    combined=True,\n",
    "    hdi_prob=0.89,\n",
    ")\n",
    "plt.show()"
   ]
  },
  {
   "cell_type": "markdown",
   "metadata": {},
   "source": [
    "### Code 15.21"
   ]
  },
  {
   "cell_type": "code",
   "execution_count": null,
   "metadata": {},
   "outputs": [],
   "source": [
    "post = m15_5.get_samples()\n",
    "B_impute_mu = jnp.mean(post[\"B_impute\"], 0)\n",
    "B_impute_ci = jnp.percentile(post[\"B_impute\"], q=(5.5, 94.5), axis=0)\n",
    "\n",
    "# B vs K\n",
    "plt.plot(dat_list[\"B\"], dat_list[\"K\"], \"o\")\n",
    "plt.gca().set(xlabel=\"neocortex percent (std)\", ylabel=\"kcal mild (std)\")\n",
    "miss_idx = pd.isna(dat_list[\"B\"]).nonzero()[0]\n",
    "Ki = dat_list[\"K\"][miss_idx]\n",
    "plt.plot(B_impute_mu, Ki, \"ko\", mfc=\"none\")\n",
    "for i in range(12):\n",
    "    plt.plot(B_impute_ci[:, i], jnp.repeat(Ki[i], 2), \"k\", lw=1)\n",
    "plt.show()\n",
    "\n",
    "# M vs B\n",
    "plt.plot(dat_list[\"M\"], dat_list[\"B\"], \"o\")\n",
    "plt.gca().set(xlabel=\"log body mass (std)\", ylabel=\"neocortex percent (std)\")\n",
    "Mi = dat_list[\"M\"][miss_idx]\n",
    "plt.plot(Mi, B_impute_mu, \"ko\", mfc=\"none\")\n",
    "for i in range(12):\n",
    "    plt.plot(jnp.repeat(Mi[i], 2), B_impute_ci[:, i], \"k\", lw=1)"
   ]
  },
  {
   "cell_type": "markdown",
   "metadata": {},
   "source": [
    "### Code 15.22"
   ]
  },
  {
   "cell_type": "code",
   "execution_count": null,
   "metadata": {},
   "outputs": [],
   "source": [
    "def model(B, M, K):\n",
    "    # priors\n",
    "    a = numpyro.sample(\"a\", dist.Normal(0, 0.5))\n",
    "    muB = numpyro.sample(\"muB\", dist.Normal(0, 0.5))\n",
    "    muM = numpyro.sample(\"muM\", dist.Normal(0, 0.5))\n",
    "    bB = numpyro.sample(\"bB\", dist.Normal(0, 0.5))\n",
    "    bM = numpyro.sample(\"bM\", dist.Normal(0, 0.5))\n",
    "    sigma = numpyro.sample(\"sigma\", dist.Exponential(1))\n",
    "    Rho_BM = numpyro.sample(\"Rho_BM\", dist.LKJ(2, 2))\n",
    "    Sigma_BM = numpyro.sample(\"Sigma_BM\", dist.Exponential(1).expand([2]))\n",
    "\n",
    "    # define B_merge as mix of observed and imputed values\n",
    "    B_impute = numpyro.sample(\n",
    "        \"B_impute\", dist.Normal(0, 1).expand([int(np.isnan(B).sum())]).mask(False)\n",
    "    )\n",
    "    B_merge = ops.index_update(B, np.nonzero(np.isnan(B))[0], B_impute)\n",
    "\n",
    "    # M and B correlation\n",
    "    MB = jnp.stack([M, B_merge], axis=1)\n",
    "    cov = jnp.outer(Sigma_BM, Sigma_BM) * Rho_BM\n",
    "    numpyro.sample(\"MB\", dist.MultivariateNormal(jnp.stack([muM, muB]), cov), obs=MB)\n",
    "\n",
    "    # K as function of B and M\n",
    "    mu = a + bB * B_merge + bM * M\n",
    "    numpyro.sample(\"K\", dist.Normal(mu, sigma), obs=K)\n",
    "\n",
    "\n",
    "m15_7 = MCMC(NUTS(model), 500, 500, num_chains=4)\n",
    "m15_7.run(random.PRNGKey(0), **dat_list)\n",
    "post = m15_7.get_samples(group_by_chain=True)\n",
    "print_summary({k: v for k, v in post.items() if k in [\"bM\", \"bB\", \"Rho_BM\"]})"
   ]
  },
  {
   "cell_type": "markdown",
   "metadata": {},
   "source": [
    "### Code 15.23"
   ]
  },
  {
   "cell_type": "code",
   "execution_count": null,
   "metadata": {},
   "outputs": [],
   "source": [
    "B_missidx = pd.isna(dat_list[\"B\"]).nonzero()[0]"
   ]
  },
  {
   "cell_type": "markdown",
   "metadata": {},
   "source": [
    "### Code 15.24"
   ]
  },
  {
   "cell_type": "code",
   "execution_count": null,
   "metadata": {},
   "outputs": [],
   "source": [
    "Moralizing_gods = pd.read_csv(\"../data/Moralizing_gods.csv\", sep=\";\")\n",
    "Moralizing_gods"
   ]
  },
  {
   "cell_type": "markdown",
   "metadata": {},
   "source": [
    "### Code 15.25"
   ]
  },
  {
   "cell_type": "code",
   "execution_count": null,
   "metadata": {},
   "outputs": [],
   "source": [
    "Moralizing_gods.moralizing_gods.value_counts(dropna=False)"
   ]
  },
  {
   "cell_type": "markdown",
   "metadata": {},
   "source": [
    "### Code 15.26"
   ]
  },
  {
   "cell_type": "code",
   "execution_count": null,
   "metadata": {},
   "outputs": [],
   "source": [
    "symbol = Moralizing_gods.moralizing_gods.apply(lambda x: \".\" if x == 1 else \"o\")\n",
    "symbol[Moralizing_gods.moralizing_gods.isna()] = \"x\"\n",
    "color = Moralizing_gods.moralizing_gods.apply(lambda x: \"k\" if pd.isna(x) else \"b\")\n",
    "for pch in [\"o\", \".\", \"x\"]:\n",
    "    plt.scatter(\n",
    "        Moralizing_gods.year[symbol == pch],\n",
    "        Moralizing_gods.population[symbol == pch],\n",
    "        marker=pch,\n",
    "        color=color[symbol == pch],\n",
    "        facecolor=\"none\" if pch == \"o\" else None,\n",
    "        lw=1.5,\n",
    "        alpha=0.7,\n",
    "    )\n",
    "plt.gca().set(xlabel=\"Time (year)\", ylabel=\"Population size\")\n",
    "plt.show()"
   ]
  },
  {
   "cell_type": "markdown",
   "metadata": {},
   "source": [
    "### Code 15.27"
   ]
  },
  {
   "cell_type": "code",
   "execution_count": null,
   "metadata": {},
   "outputs": [],
   "source": [
    "dmg = Moralizing_gods\n",
    "dmg.astype(str).groupby([\"moralizing_gods\", \"writing\"]).size().unstack(fill_value=0)"
   ]
  },
  {
   "cell_type": "markdown",
   "metadata": {},
   "source": [
    "### Code 15.28"
   ]
  },
  {
   "cell_type": "code",
   "execution_count": null,
   "metadata": {},
   "outputs": [],
   "source": [
    "dmg = Moralizing_gods\n",
    "haw = dmg.polity == \"Big Island Hawaii\"\n",
    "dmg.loc[haw, [\"year\", \"population\", \"writing\", \"moralizing_gods\"]].T.round(3)"
   ]
  },
  {
   "cell_type": "markdown",
   "metadata": {},
   "source": [
    "### Code 15.29"
   ]
  },
  {
   "cell_type": "code",
   "execution_count": null,
   "metadata": {},
   "outputs": [],
   "source": [
    "with numpyro.handlers.seed(rng_seed=9):\n",
    "    N_houses = 100\n",
    "    alpha = 5\n",
    "    beta = -3\n",
    "    k = 0.5\n",
    "    r = 0.2\n",
    "    cat = numpyro.sample(\"cat\", dist.Bernoulli(k).expand([N_houses]))\n",
    "    notes = numpyro.sample(\"notes\", dist.Poisson(alpha + beta * cat))\n",
    "    R_C = numpyro.sample(\"R_C\", dist.Bernoulli(r).expand([N_houses]))\n",
    "    cat_obs = jnp.where(R_C == 1, -9, cat)"
   ]
  },
  {
   "cell_type": "markdown",
   "metadata": {},
   "source": [
    "### Code 15.30"
   ]
  },
  {
   "cell_type": "code",
   "execution_count": null,
   "metadata": {},
   "outputs": [],
   "source": [
    "dat = dict(notes=notes, cat=cat_obs.copy(), RC=R_C.copy(), N=N_houses - 1)\n",
    "\n",
    "\n",
    "def model(N, RC, cat, notes):\n",
    "    # priors\n",
    "    a = numpyro.sample(\"a\", dist.Normal(0, 1))\n",
    "    b = numpyro.sample(\"b\", dist.Normal(0, 0.5))\n",
    "\n",
    "    # sneaking cat model\n",
    "    k = numpyro.sample(\"k\", dist.Beta(2, 2))\n",
    "    numpyro.sample(\"cat|RC==0\", dist.Bernoulli(k), obs=cat[RC == 0])\n",
    "\n",
    "    # singing bird model\n",
    "    # cat NA:\n",
    "    custom_logprob = jnp.logaddexp(\n",
    "        jnp.log(k) + dist.Poisson(jnp.exp(a + b)).log_prob(notes[RC == 1]),\n",
    "        jnp.log(1 - k) + dist.Poisson(jnp.exp(a)).log_prob(notes[RC == 1]),\n",
    "    )\n",
    "    numpyro.factor(\"notes|RC==1\", custom_logprob)\n",
    "    # cat known present/absent:\n",
    "    lambda_ = jnp.exp(a + b * cat[RC == 0])\n",
    "    numpyro.sample(\"notes|RC==0\", dist.Poisson(lambda_), obs=notes[RC == 0])\n",
    "\n",
    "\n",
    "m15_8 = MCMC(NUTS(model), 500, 500, num_chains=4)\n",
    "m15_8.run(random.PRNGKey(0), **dat)"
   ]
  },
  {
   "cell_type": "markdown",
   "metadata": {},
   "source": [
    "### Code 15.31"
   ]
  },
  {
   "cell_type": "code",
   "execution_count": null,
   "metadata": {},
   "outputs": [],
   "source": [
    "def model(N, RC, cat, notes, link=False):\n",
    "    a = numpyro.sample(\"a\", dist.Normal(0, 1))\n",
    "    b = numpyro.sample(\"b\", dist.Normal(0, 0.5))\n",
    "\n",
    "    # sneaking cat model\n",
    "    k = numpyro.sample(\"k\", dist.Beta(2, 2))\n",
    "    numpyro.sample(\"cat|RC==0\", dist.Bernoulli(k), obs=cat[RC == 0])\n",
    "\n",
    "    # singing bird model\n",
    "    custom_logprob = jnp.logaddexp(\n",
    "        jnp.log(k) + dist.Poisson(jnp.exp(a + b)).log_prob(notes[RC == 1]),\n",
    "        jnp.log(1 - k) + dist.Poisson(jnp.exp(a)).log_prob(notes[RC == 1]),\n",
    "    )\n",
    "    numpyro.factor(\"notes|RC==1\", custom_logprob)\n",
    "    lambda_ = jnp.exp(a + b * cat[RC == 0])\n",
    "    numpyro.sample(\"notes|RC==0\", dist.Poisson(lambda_), obs=notes[RC == 0])\n",
    "\n",
    "    if link:\n",
    "        lpC0 = numpyro.deterministic(\n",
    "            \"lpC0\", jnp.log(1 - k) + dist.Poisson(jnp.exp(a)).log_prob(notes)\n",
    "        )\n",
    "        lpC1 = numpyro.deterministic(\n",
    "            \"lpC1\", jnp.log(k) + dist.Poisson(jnp.exp(a + b)).log_prob(notes)\n",
    "        )\n",
    "        numpyro.deterministic(\"PrC1\", jnp.exp(lpC1) / (jnp.exp(lpC1) + jnp.exp(lpC0)))\n",
    "\n",
    "\n",
    "m15_9 = MCMC(NUTS(model), 500, 500, num_chains=4)\n",
    "m15_9.run(random.PRNGKey(0), **dat)"
   ]
  },
  {
   "cell_type": "markdown",
   "metadata": {},
   "source": [
    "### Code 15.32"
   ]
  },
  {
   "cell_type": "code",
   "execution_count": null,
   "metadata": {},
   "outputs": [],
   "source": [
    "with numpyro.handlers.seed(rng_seed=100):\n",
    "    x = numpyro.sample(\"x\", dist.Normal().expand([10]))\n",
    "    y = numpyro.sample(\"y\", dist.Normal(x))\n",
    "    x = jnp.concatenate([x, jnp.array([jnp.nan])])\n",
    "    y = jnp.concatenate([y, jnp.array([100])])\n",
    "    d = dict(x=x, y=y)"
   ]
  },
  {
   "cell_type": "markdown",
   "metadata": {},
   "source": [
    "### Code 15.33"
   ]
  },
  {
   "cell_type": "code",
   "execution_count": null,
   "metadata": {},
   "outputs": [],
   "source": [
    "Primates301 = pd.read_csv(\"../data/Primates301.csv\", sep=\";\")\n",
    "d = Primates301\n",
    "cc = d.dropna(subset=[\"brain\", \"body\"]).index\n",
    "B = d.brain[cc]\n",
    "M = d.body[cc]\n",
    "B = B.values / max(B)\n",
    "M = M.values / max(M)"
   ]
  },
  {
   "cell_type": "markdown",
   "metadata": {},
   "source": [
    "### Code 15.34"
   ]
  },
  {
   "cell_type": "code",
   "execution_count": null,
   "metadata": {},
   "outputs": [],
   "source": [
    "Bse = B * 0.1\n",
    "Mse = M * 0.1"
   ]
  },
  {
   "cell_type": "markdown",
   "metadata": {},
   "source": [
    "### Code 15.35"
   ]
  },
  {
   "cell_type": "code",
   "execution_count": null,
   "metadata": {},
   "outputs": [],
   "source": [
    "dat_list = dict(B=B, M=M)\n",
    "\n",
    "\n",
    "def model(M, B):\n",
    "    a = numpyro.sample(\"a\", dist.Normal(0, 1))\n",
    "    b = numpyro.sample(\"b\", dist.Normal(0, 1))\n",
    "    sigma = numpyro.sample(\"sigma\", dist.Exponential(1))\n",
    "    mu = a + b * jnp.log(M)\n",
    "    numpyro.sample(\"B\", dist.LogNormal(mu, sigma), obs=B)\n",
    "\n",
    "\n",
    "m15H4 = MCMC(NUTS(model), 500, 500)\n",
    "m15H4.run(random.PRNGKey(0), **dat_list)"
   ]
  },
  {
   "cell_type": "markdown",
   "metadata": {},
   "source": [
    "### Code 15.36"
   ]
  },
  {
   "cell_type": "code",
   "execution_count": null,
   "metadata": {},
   "outputs": [],
   "source": [
    "start = dict(M_true=dat_list[\"M\"], B_true=dat_list[\"B\"])\n",
    "init_strategy = init_to_value(values=start)"
   ]
  },
  {
   "cell_type": "markdown",
   "metadata": {},
   "source": [
    "### Code 15.37"
   ]
  },
  {
   "cell_type": "code",
   "execution_count": null,
   "metadata": {},
   "outputs": [],
   "source": [
    "Primates301 = pd.read_csv(\"../data/Primates301.csv\", sep=\";\")\n",
    "d = Primates301\n",
    "d.isna().sum()"
   ]
  },
  {
   "cell_type": "markdown",
   "metadata": {},
   "source": [
    "### Code 15.38"
   ]
  },
  {
   "cell_type": "code",
   "execution_count": null,
   "metadata": {},
   "outputs": [],
   "source": [
    "cc = d.dropna(subset=[\"body\"]).index\n",
    "M = d.body[cc]\n",
    "M = M.values / max(M)\n",
    "B = d.brain[cc]\n",
    "B = B.values / B.max(skipna=True)"
   ]
  },
  {
   "cell_type": "markdown",
   "metadata": {},
   "source": [
    "### Code 15.39"
   ]
  },
  {
   "cell_type": "code",
   "execution_count": null,
   "metadata": {},
   "outputs": [],
   "source": [
    "start = dict(B_impute=jnp.repeat(0.5, 56))\n",
    "init_strategy = init_to_value(values=start)"
   ]
  }
 ],
 "metadata": {
  "kernelspec": {
   "display_name": "Python 3",
   "language": "python",
   "name": "python3"
  },
  "language_info": {
   "codemirror_mode": {
    "name": "ipython",
    "version": 3
   },
   "file_extension": ".py",
   "mimetype": "text/x-python",
   "name": "python",
   "nbconvert_exporter": "python",
   "pygments_lexer": "ipython3",
   "version": "3.8.5"
  }
 },
 "nbformat": 4,
 "nbformat_minor": 4
}
