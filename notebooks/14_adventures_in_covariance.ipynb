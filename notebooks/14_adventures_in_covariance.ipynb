{
 "cells": [
  {
   "cell_type": "markdown",
   "metadata": {},
   "source": [
    "# Chapter 14. Adventures in Covariance"
   ]
  },
  {
   "cell_type": "code",
   "execution_count": null,
   "metadata": {},
   "outputs": [],
   "source": [
    "import math\n",
    "import os\n",
    "\n",
    "import arviz as az\n",
    "import matplotlib.pyplot as plt\n",
    "import pandas as pd\n",
    "from causalgraphicalmodels import CausalGraphicalModel\n",
    "from IPython.display import Image, set_matplotlib_formats\n",
    "from matplotlib.patches import Ellipse, transforms\n",
    "\n",
    "import jax.numpy as jnp\n",
    "from jax import ops, random, vmap\n",
    "from jax.scipy.special import expit\n",
    "\n",
    "import numpy as onp\n",
    "import numpyro as numpyro\n",
    "import numpyro.distributions as dist\n",
    "from numpyro.diagnostics import effective_sample_size, print_summary\n",
    "from numpyro.infer import MCMC, NUTS, Predictive\n",
    "\n",
    "if \"SVG\" in os.environ:\n",
    "    %config InlineBackend.figure_formats = [\"svg\"]\n",
    "az.style.use(\"arviz-darkgrid\")\n",
    "numpyro.set_host_device_count(4)"
   ]
  },
  {
   "cell_type": "markdown",
   "metadata": {},
   "source": [
    "### Code 14.1"
   ]
  },
  {
   "cell_type": "code",
   "execution_count": null,
   "metadata": {},
   "outputs": [],
   "source": [
    "a = 3.5  # average morning wait time\n",
    "b = -1  # average difference afternoon wait time\n",
    "sigma_a = 1  # std dev in intercepts\n",
    "sigma_b = 0.5  # std dev in slopes\n",
    "rho = -0.7  # correlation between intercepts and slopes"
   ]
  },
  {
   "cell_type": "markdown",
   "metadata": {},
   "source": [
    "### Code 14.2"
   ]
  },
  {
   "cell_type": "code",
   "execution_count": null,
   "metadata": {},
   "outputs": [],
   "source": [
    "Mu = jnp.array([a, b])"
   ]
  },
  {
   "cell_type": "markdown",
   "metadata": {},
   "source": [
    "### Code 14.3"
   ]
  },
  {
   "cell_type": "code",
   "execution_count": null,
   "metadata": {},
   "outputs": [],
   "source": [
    "cov_ab = sigma_a * sigma_b * rho\n",
    "Sigma = jnp.array([[sigma_a ** 2, cov_ab], [cov_ab, sigma_b ** 2]])"
   ]
  },
  {
   "cell_type": "markdown",
   "metadata": {},
   "source": [
    "### Code 14.4"
   ]
  },
  {
   "cell_type": "code",
   "execution_count": null,
   "metadata": {},
   "outputs": [],
   "source": [
    "jnp.array([1, 2, 3, 4]).reshape(2, 2).T"
   ]
  },
  {
   "cell_type": "markdown",
   "metadata": {},
   "source": [
    "### Code 14.5"
   ]
  },
  {
   "cell_type": "code",
   "execution_count": null,
   "metadata": {},
   "outputs": [],
   "source": [
    "sigmas = jnp.array([sigma_a, sigma_b])  # standard deviations\n",
    "Rho = jnp.array([[1, rho], [rho, 1]])  # correlation matrix\n",
    "\n",
    "# now matrix multiply to get covariance matrix\n",
    "Sigma = jnp.diag(sigmas) @ Rho @ jnp.diag(sigmas)"
   ]
  },
  {
   "cell_type": "markdown",
   "metadata": {},
   "source": [
    "### Code 14.6"
   ]
  },
  {
   "cell_type": "code",
   "execution_count": null,
   "metadata": {},
   "outputs": [],
   "source": [
    "N_cafes = 20"
   ]
  },
  {
   "cell_type": "markdown",
   "metadata": {},
   "source": [
    "### Code 14.7"
   ]
  },
  {
   "cell_type": "code",
   "execution_count": null,
   "metadata": {},
   "outputs": [],
   "source": [
    "seed = random.PRNGKey(5)  # used to replicate example\n",
    "vary_effects = dist.MultivariateNormal(Mu, Sigma).sample(seed, (N_cafes,))"
   ]
  },
  {
   "cell_type": "markdown",
   "metadata": {},
   "source": [
    "### Code 14.8"
   ]
  },
  {
   "cell_type": "code",
   "execution_count": null,
   "metadata": {},
   "outputs": [],
   "source": [
    "a_cafe = vary_effects[:, 0]\n",
    "b_cafe = vary_effects[:, 1]"
   ]
  },
  {
   "cell_type": "markdown",
   "metadata": {},
   "source": [
    "### Code 14.9"
   ]
  },
  {
   "cell_type": "code",
   "execution_count": null,
   "metadata": {},
   "outputs": [],
   "source": [
    "plt.plot(a_cafe, b_cafe, \"o\", mfc=\"none\")\n",
    "plt.gca().set(xlabel=\"intercepts (a_cafe)\", ylabel=\"slopes (b_cafe)\")\n",
    "\n",
    "# overlay population distribution\n",
    "# Ref: https://matplotlib.org/gallery/statistics/confidence_ellipse.html\n",
    "for l in [0.1, 0.3, 0.5, 0.8, 0.99]:\n",
    "    pearson = Sigma[0, 1] / jnp.sqrt(Sigma[0, 0] * Sigma[1, 1])\n",
    "    ellipse = Ellipse(\n",
    "        (0, 0),\n",
    "        jnp.sqrt(1 + pearson),\n",
    "        jnp.sqrt(1 - pearson),\n",
    "        edgecolor=\"k\",\n",
    "        alpha=0.2,\n",
    "        facecolor=\"none\",\n",
    "    )\n",
    "    std_dev = dist.Normal().icdf((1 + jnp.sqrt(l)) / 2)\n",
    "    scale_x = 2 * std_dev * jnp.sqrt(Sigma[0, 0])\n",
    "    scale_y = 2 * std_dev * jnp.sqrt(Sigma[1, 1])\n",
    "    scale = transforms.Affine2D().rotate_deg(45).scale(scale_x, scale_y)\n",
    "    ellipse.set_transform(scale.translate(Mu[0], Mu[1]) + plt.gca().transData)\n",
    "    plt.gca().add_patch(ellipse)"
   ]
  },
  {
   "cell_type": "markdown",
   "metadata": {},
   "source": [
    "### Code 14.10"
   ]
  },
  {
   "cell_type": "code",
   "execution_count": null,
   "metadata": {},
   "outputs": [],
   "source": [
    "seed = random.PRNGKey(22)\n",
    "N_visits = 10\n",
    "afternoon = jnp.tile(jnp.arange(2), N_visits * N_cafes // 2)\n",
    "cafe_id = jnp.repeat(jnp.arange(N_cafes), N_visits)\n",
    "mu = a_cafe[cafe_id] + b_cafe[cafe_id] * afternoon\n",
    "sigma = 0.5  # std dev within cafes\n",
    "wait = dist.Normal(mu, sigma).sample(seed)\n",
    "d = pd.DataFrame(dict(cafe=cafe_id, afternoon=afternoon, wait=wait))"
   ]
  },
  {
   "cell_type": "markdown",
   "metadata": {},
   "source": [
    "### Code 14.11"
   ]
  },
  {
   "cell_type": "code",
   "execution_count": null,
   "metadata": {},
   "outputs": [],
   "source": [
    "R = dist.LKJ(dimension=2, concentration=2).sample(random.PRNGKey(0), (int(1e4),))\n",
    "az.plot_kde(R[:, 0, 1], bw=2, label=\"correlation\")\n",
    "plt.show()"
   ]
  },
  {
   "cell_type": "markdown",
   "metadata": {},
   "source": [
    "### Code 14.12"
   ]
  },
  {
   "cell_type": "code",
   "execution_count": null,
   "metadata": {},
   "outputs": [],
   "source": [
    "def model(cafe, afternoon, wait):\n",
    "    a = numpyro.sample(\"a\", dist.Normal(5, 2))\n",
    "    b = numpyro.sample(\"b\", dist.Normal(-1, 0.5))\n",
    "    sigma_cafe = numpyro.sample(\"sigma_cafe\", dist.Exponential(1).expand([2]))\n",
    "    sigma = numpyro.sample(\"sigma\", dist.Exponential(1))\n",
    "    Rho = numpyro.sample(\"Rho\", dist.LKJ(2, 2))\n",
    "    cov = jnp.outer(sigma_cafe, sigma_cafe) * Rho\n",
    "    a_cafe_b_cafe = numpyro.sample(\n",
    "        \"a_cafe,b_cafe\", dist.MultivariateNormal(jnp.stack([a, b]), cov).expand([20])\n",
    "    )\n",
    "    a_cafe, b_cafe = a_cafe_b_cafe[:, 0], a_cafe_b_cafe[:, 1]\n",
    "    mu = a_cafe[cafe] + b_cafe[cafe] * afternoon\n",
    "    numpyro.sample(\"wait\", dist.Normal(mu, sigma), obs=wait)\n",
    "\n",
    "\n",
    "m14_1 = MCMC(NUTS(model), 500, 500, num_chains=4)\n",
    "m14_1.run(random.PRNGKey(0), d.cafe.values, d.afternoon.values, d.wait.values)"
   ]
  },
  {
   "cell_type": "markdown",
   "metadata": {},
   "source": [
    "### Code 14.13"
   ]
  },
  {
   "cell_type": "code",
   "execution_count": null,
   "metadata": {},
   "outputs": [],
   "source": [
    "post = m14_1.get_samples()\n",
    "az.plot_kde(post[\"Rho\"][:, 0, 1], bw=2)\n",
    "plt.show()"
   ]
  },
  {
   "cell_type": "markdown",
   "metadata": {},
   "source": [
    "### Code 14.14"
   ]
  },
  {
   "cell_type": "code",
   "execution_count": null,
   "metadata": {},
   "outputs": [],
   "source": [
    "# compute unpooled estimates directly from data\n",
    "a1 = jnp.array(\n",
    "    [jnp.mean(wait[(cafe_id == i) & (afternoon == 0)]) for i in range(N_cafes)]\n",
    ")\n",
    "b1 = (\n",
    "    jnp.array(\n",
    "        [jnp.mean(wait[(cafe_id == i) & (afternoon == 1)]) for i in range(N_cafes)]\n",
    "    )\n",
    "    - a1\n",
    ")\n",
    "\n",
    "# extract posterior means of partially pooled estimates\n",
    "post = m14_1.get_samples()\n",
    "a2 = jnp.mean(post[\"a_cafe,b_cafe\"][..., 0], 0)\n",
    "b2 = jnp.mean(post[\"a_cafe,b_cafe\"][..., 1], 0)\n",
    "\n",
    "# plot both and connect with lines\n",
    "plt.plot(a1, b1, \"o\")\n",
    "plt.gca().set(\n",
    "    xlabel=\"intercept\",\n",
    "    ylabel=\"slope\",\n",
    "    ylim=(jnp.min(b1) - 0.1, jnp.max(b1) + 0.1),\n",
    "    xlim=(jnp.min(a1) - 0.1, jnp.max(a1) + 0.1),\n",
    ")\n",
    "plt.plot(a2, b2, \"ko\", mfc=\"none\")\n",
    "for i in range(N_cafes):\n",
    "    plt.plot([a1[i], a2[i]], [b1[i], b2[i]], \"k\", lw=0.5)\n",
    "fig, ax = plt.gcf(), plt.gca()"
   ]
  },
  {
   "cell_type": "markdown",
   "metadata": {},
   "source": [
    "### Code 14.15"
   ]
  },
  {
   "cell_type": "code",
   "execution_count": null,
   "metadata": {},
   "outputs": [],
   "source": [
    "# compute posterior mean bivariate Gaussian\n",
    "Mu_est = jnp.array([jnp.mean(post[\"a\"]), jnp.mean(post[\"b\"])])\n",
    "rho_est = jnp.mean(post[\"Rho\"][:, 0, 1])\n",
    "sa_est = jnp.mean(post[\"sigma_cafe\"][:, 0])\n",
    "sb_est = jnp.mean(post[\"sigma_cafe\"][:, 1])\n",
    "cov_ab = sa_est * sb_est * rho_est\n",
    "Sigma_est = jnp.array([[sa_est ** 2, cov_ab], [cov_ab, sb_est ** 2]])\n",
    "\n",
    "# draw contours\n",
    "for l in [0.1, 0.3, 0.5, 0.8, 0.99]:\n",
    "    pearson = Sigma_est[0, 1] / jnp.sqrt(Sigma_est[0, 0] * Sigma_est[1, 1])\n",
    "    ellipse = Ellipse(\n",
    "        (0, 0),\n",
    "        jnp.sqrt(1 + pearson),\n",
    "        jnp.sqrt(1 - pearson),\n",
    "        edgecolor=\"k\",\n",
    "        alpha=0.2,\n",
    "        facecolor=\"none\",\n",
    "    )\n",
    "    std_dev = dist.Normal().icdf((1 + jnp.sqrt(l)) / 2)\n",
    "    scale_x = 2 * std_dev * jnp.sqrt(Sigma_est[0, 0])\n",
    "    scale_y = 2 * std_dev * jnp.sqrt(Sigma_est[1, 1])\n",
    "    scale = transforms.Affine2D().rotate_deg(45).scale(scale_x, scale_y)\n",
    "    ellipse.set_transform(scale.translate(Mu_est[0], Mu_est[1]) + ax.transData)\n",
    "    ax.add_patch(ellipse)\n",
    "fig"
   ]
  },
  {
   "cell_type": "markdown",
   "metadata": {},
   "source": [
    "### Code 14.16"
   ]
  },
  {
   "cell_type": "code",
   "execution_count": null,
   "metadata": {},
   "outputs": [],
   "source": [
    "# convert varying effects to waiting times\n",
    "wait_morning_1 = a1\n",
    "wait_afternoon_1 = a1 + b1\n",
    "wait_morning_2 = a2\n",
    "wait_afternoon_2 = a2 + b2\n",
    "\n",
    "# plot both and connect with lines\n",
    "plt.plot(wait_morning_1, wait_afternoon_1, \"o\")\n",
    "plt.gca().set(\n",
    "    xlabel=\"morning wait\",\n",
    "    ylabel=\"afternoon wait\",\n",
    "    ylim=(jnp.min(wait_afternoon_1) - 0.1, jnp.max(wait_afternoon_1) + 0.1),\n",
    "    xlim=(jnp.min(wait_morning_1) - 0.1, jnp.max(wait_morning_1) + 0.1),\n",
    ")\n",
    "plt.plot(wait_morning_2, wait_afternoon_2, \"ko\", mfc=\"none\")\n",
    "for i in range(N_cafes):\n",
    "    plt.plot(\n",
    "        [wait_morning_1[i], wait_morning_2[i]],\n",
    "        [wait_afternoon_1[i], wait_afternoon_2[i]],\n",
    "        \"k\",\n",
    "        lw=0.5,\n",
    "    )\n",
    "x = jnp.linspace(jnp.min(wait_morning_1), jnp.max(wait_morning_1), 101)\n",
    "plt.plot(x, x, \"k--\", lw=1)\n",
    "fig, ax = plt.gcf(), plt.gca()"
   ]
  },
  {
   "cell_type": "markdown",
   "metadata": {},
   "source": [
    "### Code 14.17"
   ]
  },
  {
   "cell_type": "code",
   "execution_count": null,
   "metadata": {},
   "outputs": [],
   "source": [
    "# now shrinkage distribution by simulation\n",
    "v = dist.MultivariateNormal(Mu_est, Sigma_est).sample(random.PRNGKey(0), (10000,))\n",
    "v = ops.index_add(v, ops.index[:, 1], v[:, 0])  # calculate afternoon wait\n",
    "Sigma_est2 = jnp.cov(v, rowvar=False)\n",
    "Mu_est2 = Mu_est\n",
    "Mu_est2 = ops.index_add(Mu_est2, ops.index[1], Mu_est2[0])\n",
    "\n",
    "# draw contours\n",
    "for l in [0.1, 0.3, 0.5, 0.8, 0.99]:\n",
    "    pearson = Sigma_est2[0, 1] / jnp.sqrt(Sigma_est2[0, 0] * Sigma_est2[1, 1])\n",
    "    ellipse = Ellipse(\n",
    "        (0, 0),\n",
    "        jnp.sqrt(1 + pearson),\n",
    "        jnp.sqrt(1 - pearson),\n",
    "        edgecolor=\"k\",\n",
    "        alpha=0.2,\n",
    "        facecolor=\"none\",\n",
    "    )\n",
    "    std_dev = dist.Normal().icdf((1 + jnp.sqrt(l)) / 2)\n",
    "    scale_x = 2 * std_dev * jnp.sqrt(Sigma_est2[0, 0])\n",
    "    scale_y = 2 * std_dev * jnp.sqrt(Sigma_est2[1, 1])\n",
    "    scale = transforms.Affine2D().rotate_deg(45).scale(scale_x, scale_y)\n",
    "    ellipse.set_transform(scale.translate(Mu_est2[0], Mu_est2[1]) + ax.transData)\n",
    "    ax.add_patch(ellipse)\n",
    "fig"
   ]
  },
  {
   "cell_type": "markdown",
   "metadata": {},
   "source": [
    "### Code 14.18"
   ]
  },
  {
   "cell_type": "code",
   "execution_count": null,
   "metadata": {},
   "outputs": [],
   "source": [
    "chimpanzees = pd.read_csv(\"../data/chimpanzees.csv\", sep=\";\")\n",
    "d = chimpanzees\n",
    "d[\"block_id\"] = d.block\n",
    "d[\"treatment\"] = 1 + d.prosoc_left + 2 * d.condition\n",
    "\n",
    "dat = dict(\n",
    "    L=d.pulled_left.values,\n",
    "    tid=d.treatment.values - 1,\n",
    "    actor=d.actor.values - 1,\n",
    "    block_id=d.block_id.values - 1,\n",
    ")\n",
    "\n",
    "\n",
    "def model(tid, actor, block_id, L):\n",
    "    # fixed priors\n",
    "    g = numpyro.sample(\"g\", dist.Normal(0, 1).expand([4]))\n",
    "    sigma_actor = numpyro.sample(\"sigma_actor\", dist.Exponential(1).expand([4]))\n",
    "    Rho_actor = numpyro.sample(\"Rho_actor\", dist.LKJ(4, 4))\n",
    "    sigma_block = numpyro.sample(\"sigma_block\", dist.Exponential(1).expand([4]))\n",
    "    Rho_block = numpyro.sample(\"Rho_block\", dist.LKJ(4, 4))\n",
    "\n",
    "    # adaptive priors\n",
    "    cov_actor = jnp.outer(sigma_actor, sigma_actor) * Rho_actor\n",
    "    alpha = numpyro.sample(\"alpha\", dist.MultivariateNormal(0, cov_actor).expand([7]))\n",
    "    cov_block = jnp.outer(sigma_block, sigma_block) * Rho_block\n",
    "    beta = numpyro.sample(\"beta\", dist.MultivariateNormal(0, cov_block).expand([6]))\n",
    "\n",
    "    logit_p = g[tid] + alpha[actor, tid] + beta[block_id, tid]\n",
    "    numpyro.sample(\"L\", dist.Binomial(logits=logit_p), obs=L)\n",
    "\n",
    "\n",
    "m14_2 = MCMC(NUTS(model), 500, 500, num_chains=4)\n",
    "m14_2.run(random.PRNGKey(0), **dat)\n",
    "print(\"Number of divergences: \", m14_2.get_extra_fields()[\"diverging\"].sum())"
   ]
  },
  {
   "cell_type": "markdown",
   "metadata": {},
   "source": [
    "### Code 14.19"
   ]
  },
  {
   "cell_type": "code",
   "execution_count": null,
   "metadata": {},
   "outputs": [],
   "source": [
    "def model(tid, actor, block_id, L=None, link=False):\n",
    "    # fixed priors\n",
    "    g = numpyro.sample(\"g\", dist.Normal(0, 1).expand([4]))\n",
    "    sigma_actor = numpyro.sample(\"sigma_actor\", dist.Exponential(1).expand([4]))\n",
    "    L_Rho_actor = numpyro.sample(\"L_Rho_actor\", dist.LKJCholesky(4, 2))\n",
    "    sigma_block = numpyro.sample(\"sigma_block\", dist.Exponential(1).expand([4]))\n",
    "    L_Rho_block = numpyro.sample(\"L_Rho_block\", dist.LKJCholesky(4, 2))\n",
    "\n",
    "    # adaptive priors - non-centered\n",
    "    z_actor = numpyro.sample(\"z_actor\", dist.Normal(0, 1).expand([4, 7]))\n",
    "    z_block = numpyro.sample(\"z_block\", dist.Normal(0, 1).expand([4, 6]))\n",
    "    alpha = numpyro.deterministic(\n",
    "        \"alpha\", ((sigma_actor[..., None] * L_Rho_actor) @ z_actor).T\n",
    "    )\n",
    "    beta = numpyro.deterministic(\n",
    "        \"beta\", ((sigma_block[..., None] * L_Rho_block) @ z_block).T\n",
    "    )\n",
    "\n",
    "    logit_p = g[tid] + alpha[actor, tid] + beta[block_id, tid]\n",
    "    numpyro.sample(\"L\", dist.Binomial(logits=logit_p), obs=L)\n",
    "\n",
    "    # compute ordinary correlation matrixes from Cholesky factors\n",
    "    if link:\n",
    "        numpyro.deterministic(\"Rho_actor\", L_Rho_actor @ L_Rho_actor.T)\n",
    "        numpyro.deterministic(\"Rho_block\", L_Rho_block @ L_Rho_block.T)\n",
    "        numpyro.deterministic(\"p\", expit(logit_p))\n",
    "\n",
    "\n",
    "m14_3 = MCMC(NUTS(model), 500, 500, num_chains=4)\n",
    "m14_3.run(random.PRNGKey(4387510), extra_fields=[\"diverging\"], **dat)\n",
    "print(\"Number of divergences: \", m14_3.get_extra_fields()[\"diverging\"].sum())"
   ]
  },
  {
   "cell_type": "markdown",
   "metadata": {},
   "source": [
    "### Code 14.20"
   ]
  },
  {
   "cell_type": "code",
   "execution_count": null,
   "metadata": {},
   "outputs": [],
   "source": [
    "# extract n_eff values for each model\n",
    "post_nc = m14_3.get_samples(group_by_chain=False)\n",
    "post_nc = Predictive(m14_3.sampler.model, post_nc)(random.PRNGKey(1), link=True, **dat)\n",
    "post_nc = {k: v.reshape((4, 500) + v.shape[1:]) for k, v in post_nc.items()}\n",
    "neff_nc = jnp.concatenate(\n",
    "    [effective_sample_size(post_nc[k].copy()).reshape(-1) for k in [\"alpha\", \"beta\"]]\n",
    ")\n",
    "post_c = m14_2.get_samples(group_by_chain=True)\n",
    "neff_c = jnp.concatenate(\n",
    "    [effective_sample_size(post_c[k].copy()).reshape(-1) for k in [\"alpha\", \"beta\"]]\n",
    ")\n",
    "plt.plot(neff_c, neff_nc, \"o\", mfc=\"none\")\n",
    "plt.gca().set(xlabel=\"centered (default)\", ylabel=\"non-centered (cholesky)\")\n",
    "x = jnp.linspace(0, 1200, 100)\n",
    "plt.plot(x, x, \"--\")\n",
    "plt.show()"
   ]
  },
  {
   "cell_type": "markdown",
   "metadata": {},
   "source": [
    "### Code 14.21"
   ]
  },
  {
   "cell_type": "code",
   "execution_count": null,
   "metadata": {},
   "outputs": [],
   "source": [
    "post = m14_3.get_samples(group_by_chain=True)\n",
    "pars = {k: post[k] for k in [\"sigma_actor\", \"sigma_block\"]}\n",
    "print_summary(pars, prob=0.89)"
   ]
  },
  {
   "cell_type": "markdown",
   "metadata": {},
   "source": [
    "### Code 14.22"
   ]
  },
  {
   "cell_type": "code",
   "execution_count": null,
   "metadata": {},
   "outputs": [],
   "source": [
    "# compute mean for each actor in each treatment\n",
    "pl = d.groupby([\"actor\", \"treatment\"])[\"pulled_left\"].mean().unstack()\n",
    "\n",
    "# generate posterior predictions using link\n",
    "datp = dict(\n",
    "    actor=jnp.repeat(jnp.arange(7), 4),\n",
    "    tid=jnp.tile(jnp.arange(4), 7),\n",
    "    block_id=jnp.repeat(4, 4 * 7),\n",
    ")\n",
    "p_post = Predictive(m14_3.sampler.model, m14_3.get_samples())(\n",
    "    random.PRNGKey(1), **datp, link=True\n",
    ")[\"p\"]\n",
    "p_mu = jnp.mean(p_post, 0)\n",
    "p_ci = jnp.percentile(p_post, q=(5.5, 94.5), axis=0)\n",
    "\n",
    "# set up plot\n",
    "ax = plt.subplot(\n",
    "    xlim=(0.5, 28.5),\n",
    "    ylim=(0, 1.05),\n",
    "    xlabel=\"\",\n",
    "    ylabel=\"proportion left lever\",\n",
    "    xticks=[],\n",
    ")\n",
    "plt.yticks(ticks=[0, 0.5, 1], labels=[0, 0.5, 1])\n",
    "ax.axhline(0.5, c=\"k\", lw=1, ls=\"--\")\n",
    "for j in range(1, 8):\n",
    "    ax.axvline((j - 1) * 4 + 4.5, c=\"k\", lw=0.5)\n",
    "for j in range(1, 8):\n",
    "    ax.annotate(\n",
    "        \"actor {}\".format(j),\n",
    "        ((j - 1) * 4 + 2.5, 1.1),\n",
    "        ha=\"center\",\n",
    "        va=\"center\",\n",
    "        annotation_clip=False,\n",
    "    )\n",
    "\n",
    "xo = 0.1  # offset distance to stagger raw data and predictions\n",
    "# raw data\n",
    "for j in [1] + list(range(3, 8)):\n",
    "    ax.plot((j - 1) * 4 + jnp.array([1, 3]) - xo, pl.loc[j, [1, 3]], \"b\", alpha=0.4)\n",
    "    ax.plot((j - 1) * 4 + jnp.array([2, 4]) - xo, pl.loc[j, [2, 4]], \"b\", alpha=0.4)\n",
    "x = jnp.arange(1, 29).reshape(7, 4) - xo\n",
    "ax.scatter(\n",
    "    x[:, [0, 1]].reshape(-1),\n",
    "    pl.values[:, [0, 1]].reshape(-1),\n",
    "    edgecolor=\"b\",\n",
    "    facecolor=\"w\",\n",
    "    zorder=3,\n",
    ")\n",
    "ax.scatter(\n",
    "    x[:, [2, 3]].reshape(-1), pl.values[:, [2, 3]].reshape(-1), marker=\".\", c=\"b\", s=80\n",
    ")\n",
    "\n",
    "yoff = 0.175\n",
    "ax.annotate(\"R/N\", (1 - xo, pl.values[0, 0] - yoff), ha=\"center\", va=\"top\")\n",
    "ax.annotate(\"L/N\", (2 - xo, pl.values[0, 1] + yoff), ha=\"center\", va=\"bottom\")\n",
    "ax.annotate(\"R/P\", (3 - xo, pl.values[0, 2] - yoff), ha=\"center\", va=\"top\")\n",
    "ax.annotate(\"L/P\", (4 - xo, pl.values[0, 3] + yoff), ha=\"center\", va=\"bottom\")\n",
    "\n",
    "# posterior predictions\n",
    "for j in [1] + list(range(3, 8)):\n",
    "    ax.plot(\n",
    "        (j - 1) * 4 + jnp.array([1, 3]) + xo, p_mu[(j - 1) * 4 + jnp.array([0, 2])], \"k\"\n",
    "    )\n",
    "    ax.plot(\n",
    "        (j - 1) * 4 + jnp.array([2, 4]) + xo, p_mu[(j - 1) * 4 + jnp.array([1, 3])], \"k\"\n",
    "    )\n",
    "for i in range(1, 29):\n",
    "    ax.plot(jnp.array([i, i]) + xo, p_ci[:, i - 1], \"k\", lw=1, zorder=4)\n",
    "x = jnp.arange(1, 29).reshape(7, 4) + xo\n",
    "ax.scatter(\n",
    "    x[:, [0, 1]].reshape(-1),\n",
    "    p_mu.reshape(7, 4)[:, [0, 1]].reshape(-1),\n",
    "    edgecolor=\"k\",\n",
    "    facecolor=\"w\",\n",
    "    zorder=5,\n",
    ")\n",
    "ax.scatter(\n",
    "    x[:, [2, 3]].reshape(-1),\n",
    "    p_mu.reshape(7, 4)[:, [2, 3]].reshape(-1),\n",
    "    marker=\".\",\n",
    "    c=\"k\",\n",
    "    s=80,\n",
    "    zorder=5,\n",
    ")\n",
    "plt.show()"
   ]
  },
  {
   "cell_type": "markdown",
   "metadata": {},
   "source": [
    "### Code 14.23"
   ]
  },
  {
   "cell_type": "code",
   "execution_count": null,
   "metadata": {},
   "outputs": [],
   "source": [
    "with numpyro.handlers.seed(rng_seed=73):\n",
    "    N = 500\n",
    "    U_sim = numpyro.sample(\"U_sim\", dist.Normal().expand([N]))\n",
    "    Q_sim = numpyro.sample(\"Q_sim\", dist.Categorical(logits=jnp.ones(4)).expand([N]))\n",
    "    E_sim = numpyro.sample(\"E_sim\", dist.Normal(U_sim + Q_sim))\n",
    "    W_sim = numpyro.sample(\"W_sim\", dist.Normal(U_sim + 0 * E_sim))\n",
    "    dat_sim = dict(\n",
    "        W=(W_sim - W_sim.mean()) / W_sim.std(),\n",
    "        E=(E_sim - E_sim.mean()) / E_sim.std(),\n",
    "        Q=(Q_sim - Q_sim.mean()) / Q_sim.std(),\n",
    "    )"
   ]
  },
  {
   "cell_type": "markdown",
   "metadata": {},
   "source": [
    "### Code 14.24"
   ]
  },
  {
   "cell_type": "code",
   "execution_count": null,
   "metadata": {},
   "outputs": [],
   "source": [
    "def model(E, W):\n",
    "    aW = numpyro.sample(\"aW\", dist.Normal(0, 0.2))\n",
    "    bEW = numpyro.sample(\"bEW\", dist.Normal(0, 0.5))\n",
    "    sigma = numpyro.sample(\"sigma\", dist.Exponential(1))\n",
    "    mu = aW + bEW * E\n",
    "    numpyro.sample(\"W\", dist.Normal(mu, sigma), obs=W)\n",
    "\n",
    "\n",
    "m14_4 = MCMC(NUTS(model), 500, 500, num_chains=4)\n",
    "m14_4.run(random.PRNGKey(0), dat_sim[\"E\"], dat_sim[\"W\"])\n",
    "m14_4.print_summary(0.89)"
   ]
  },
  {
   "cell_type": "markdown",
   "metadata": {},
   "source": [
    "### Code 14.25"
   ]
  },
  {
   "cell_type": "code",
   "execution_count": null,
   "metadata": {},
   "outputs": [],
   "source": [
    "def model(E, Q, W):\n",
    "    aW = numpyro.sample(\"aW\", dist.Normal(0, 0.2))\n",
    "    bEW = numpyro.sample(\"bEW\", dist.Normal(0, 0.5))\n",
    "    bQW = numpyro.sample(\"bQW\", dist.Normal(0, 0.5))\n",
    "    sigma = numpyro.sample(\"sigma\", dist.Exponential(1))\n",
    "    mu = aW + bEW * E + bQW * Q\n",
    "    numpyro.sample(\"W\", dist.Normal(mu, sigma), obs=W)\n",
    "\n",
    "\n",
    "m14_5 = MCMC(NUTS(model), 500, 500, num_chains=4)\n",
    "m14_5.run(random.PRNGKey(0), **dat_sim)\n",
    "m14_5.print_summary(0.89)"
   ]
  },
  {
   "cell_type": "markdown",
   "metadata": {},
   "source": [
    "### Code 14.26"
   ]
  },
  {
   "cell_type": "code",
   "execution_count": null,
   "metadata": {},
   "outputs": [],
   "source": [
    "def model(E, Q, W):\n",
    "    aW = numpyro.sample(\"aW\", dist.Normal(0, 0.2))\n",
    "    aE = numpyro.sample(\"aE\", dist.Normal(0, 0.2))\n",
    "    bEW = numpyro.sample(\"bEW\", dist.Normal(0, 0.5))\n",
    "    bQE = numpyro.sample(\"bQE\", dist.Normal(0, 0.5))\n",
    "    Rho = numpyro.sample(\"Rho\", dist.LKJ(2, 2))\n",
    "    Sigma = numpyro.sample(\"Sigma\", dist.Exponential(1).expand([2]))\n",
    "    muW = aW + bEW * E\n",
    "    muE = aE + bQE * Q\n",
    "    cov = jnp.outer(Sigma, Sigma) * Rho\n",
    "    numpyro.sample(\n",
    "        \"W,E\",\n",
    "        dist.MultivariateNormal(jnp.stack([muW, muE], -1), cov),\n",
    "        obs=jnp.stack([W, E], -1),\n",
    "    )\n",
    "\n",
    "\n",
    "m14_6 = MCMC(NUTS(model), 500, 500, num_chains=4)\n",
    "m14_6.run(random.PRNGKey(0), **dat_sim)\n",
    "m14_6.print_summary(0.89)"
   ]
  },
  {
   "cell_type": "markdown",
   "metadata": {},
   "source": [
    "### Code 14.27"
   ]
  },
  {
   "cell_type": "code",
   "execution_count": null,
   "metadata": {},
   "outputs": [],
   "source": [
    "m14_4x = MCMC(m14_4.sampler, 500, 500, num_chains=4)\n",
    "m14_4x.run(random.PRNGKey(1), dat_sim[\"E\"], dat_sim[\"W\"])\n",
    "m14_6x = MCMC(m14_6.sampler, 500, 500, num_chains=4)\n",
    "m14_6x.run(random.PRNGKey(1), **dat_sim)"
   ]
  },
  {
   "cell_type": "markdown",
   "metadata": {},
   "source": [
    "### Code 14.28"
   ]
  },
  {
   "cell_type": "code",
   "execution_count": null,
   "metadata": {},
   "outputs": [],
   "source": [
    "with numpyro.handlers.seed(rng_seed=73):\n",
    "    N = 500\n",
    "    U_sim = numpyro.sample(\"U_sim\", dist.Normal().expand([N]))\n",
    "    Q_sim = numpyro.sample(\"Q_sim\", dist.Categorical(logits=jnp.ones(4)).expand([N]))\n",
    "    E_sim = numpyro.sample(\"E_sim\", dist.Normal(U_sim + Q_sim))\n",
    "    W_sim = numpyro.sample(\"W_sim\", dist.Normal(-U_sim + 0.2 * E_sim))\n",
    "    dat_sim = dict(\n",
    "        W=(W_sim - W_sim.mean()) / W_sim.std(),\n",
    "        E=(E_sim - E_sim.mean()) / E_sim.std(),\n",
    "        Q=(Q_sim - Q_sim.mean()) / Q_sim.std(),\n",
    "    )"
   ]
  },
  {
   "cell_type": "markdown",
   "metadata": {},
   "source": [
    "### Code 14.29"
   ]
  },
  {
   "cell_type": "code",
   "execution_count": null,
   "metadata": {},
   "outputs": [],
   "source": [
    "dagIV = CausalGraphicalModel(\n",
    "    nodes=[\"E\", \"W\", \"U\", \"Q\"], edges=[(\"E\", \"W\"), (\"U\", \"E\"), (\"U\", \"W\"), (\"Q\", \"E\")]\n",
    ")\n",
    "for s in dagIV.observed_variables:\n",
    "    if s in [\"E\", \"W\"]:\n",
    "        continue\n",
    "    cond1 = not dagIV.is_d_separated(s, \"E\")\n",
    "    cond2 = dagIV.do(\"E\").is_d_separated(s, \"W\")\n",
    "    if cond1 and cond2:\n",
    "        print(s)"
   ]
  },
  {
   "cell_type": "markdown",
   "metadata": {},
   "source": [
    "### Code 14.30"
   ]
  },
  {
   "cell_type": "code",
   "execution_count": null,
   "metadata": {},
   "outputs": [],
   "source": [
    "KosterLeckie = pd.read_csv(\"../data/KosterLeckie.csv\")\n",
    "kl_dyads = KosterLeckie"
   ]
  },
  {
   "cell_type": "markdown",
   "metadata": {},
   "source": [
    "### Code 14.31"
   ]
  },
  {
   "cell_type": "code",
   "execution_count": null,
   "metadata": {},
   "outputs": [],
   "source": [
    "kl_data = dict(\n",
    "    N=kl_dyads.shape[0],\n",
    "    N_households=kl_dyads.hidB.max(),\n",
    "    did=kl_dyads.did.values - 1,\n",
    "    hidA=kl_dyads.hidA.values - 1,\n",
    "    hidB=kl_dyads.hidB.values - 1,\n",
    "    giftsAB=kl_dyads.giftsAB.values,\n",
    "    giftsBA=kl_dyads.giftsBA.values,\n",
    ")\n",
    "\n",
    "\n",
    "def model(N_households, N, did, hidA, hidB, giftsAB, giftsBA, link=False):\n",
    "    # gr matrix of varying effects\n",
    "    Rho_gr = numpyro.sample(\"Rho_gr\", dist.LKJ(2, 4))\n",
    "    sigma_gr = numpyro.sample(\"sigma_gr\", dist.Exponential(1).expand([2]))\n",
    "    cov = jnp.outer(sigma_gr, sigma_gr) * Rho_gr\n",
    "    gr = numpyro.sample(\"gr\", dist.MultivariateNormal(0, cov).expand([N_households]))\n",
    "\n",
    "    # dyad effects\n",
    "    z = numpyro.sample(\"z\", dist.Normal(0, 1).expand([2, N]))\n",
    "    L_Rho_d = numpyro.sample(\"L_Rho_d\", dist.LKJCholesky(2, 8))\n",
    "    sigma_d = numpyro.sample(\"sigma_d\", dist.Exponential(1))\n",
    "    d = numpyro.deterministic(\n",
    "        \"d\", ((jnp.repeat(sigma_d, 2)[..., None] * L_Rho_d) @ z).T\n",
    "    )\n",
    "\n",
    "    a = numpyro.sample(\"a\", dist.Normal(0, 1))\n",
    "    lambdaAB = jnp.exp(a + gr[hidA, 0] + gr[hidB, 1] + d[did, 0])\n",
    "    lambdaBA = jnp.exp(a + gr[hidB, 0] + gr[hidA, 1] + d[did, 1])\n",
    "    numpyro.sample(\"giftsAB\", dist.Poisson(lambdaAB), obs=giftsAB)\n",
    "    numpyro.sample(\"giftsBA\", dist.Poisson(lambdaBA), obs=giftsBA)\n",
    "\n",
    "    # compute correlation matrix for dyads\n",
    "    if link:\n",
    "        numpyro.deterministic(\"Rho_d\", L_Rho_d @ L_Rho_d.T)\n",
    "\n",
    "\n",
    "m14_7 = MCMC(NUTS(model), num_warmup=1000, num_samples=1000, num_chains=4)\n",
    "m14_7.run(random.PRNGKey(0), **kl_data)"
   ]
  },
  {
   "cell_type": "markdown",
   "metadata": {},
   "source": [
    "### Code 14.32"
   ]
  },
  {
   "cell_type": "code",
   "execution_count": null,
   "metadata": {},
   "outputs": [],
   "source": [
    "post = m14_7.get_samples(group_by_chain=True)\n",
    "print_summary({k: post[k] for k in [\"Rho_gr\", \"sigma_gr\"]}, 0.89)"
   ]
  },
  {
   "cell_type": "markdown",
   "metadata": {},
   "source": [
    "### Code 14.33"
   ]
  },
  {
   "cell_type": "code",
   "execution_count": null,
   "metadata": {},
   "outputs": [],
   "source": [
    "post = m14_7.get_samples()\n",
    "g = vmap(lambda i: post[\"a\"] + post[\"gr\"][:, i, 0], out_axes=1)(jnp.arange(25))\n",
    "r = vmap(lambda i: post[\"a\"] + post[\"gr\"][:, i, 1], out_axes=1)(jnp.arange(25))\n",
    "Eg_mu = jnp.mean(jnp.exp(g), 0)\n",
    "Er_mu = jnp.mean(jnp.exp(r), 0)"
   ]
  },
  {
   "cell_type": "markdown",
   "metadata": {},
   "source": [
    "### Code 14.34"
   ]
  },
  {
   "cell_type": "code",
   "execution_count": null,
   "metadata": {},
   "outputs": [],
   "source": [
    "ax = plt.subplot(\n",
    "    xlim=(0, 8.6),\n",
    "    ylim=(0, 8.6),\n",
    "    xlabel=\"generalized giving\",\n",
    "    ylabel=\"generalized receiving\",\n",
    ")\n",
    "x = jnp.linspace(0, 9, 101)\n",
    "plt.plot(x, 0 + 1 * x, \"k--\", lw=1.5)\n",
    "\n",
    "# ellipses\n",
    "for i in range(25):\n",
    "    Sigma = jnp.cov(jnp.stack([jnp.exp(g)[:, i], jnp.exp(r)[:, i]]))\n",
    "    Mu = jnp.stack([jnp.exp(jnp.mean(g[:, i])), jnp.exp(jnp.mean(r[:, i]))])\n",
    "    for l in [0.5]:\n",
    "        pearson = Sigma[0, 1] / jnp.sqrt(Sigma[0, 0] * Sigma[1, 1])\n",
    "        ellipse = Ellipse(\n",
    "            (0, 0),\n",
    "            jnp.sqrt(1 + pearson),\n",
    "            jnp.sqrt(1 - pearson),\n",
    "            edgecolor=\"k\",\n",
    "            alpha=0.5,\n",
    "            facecolor=\"none\",\n",
    "        )\n",
    "        std_dev = dist.Normal().icdf((1 + jnp.sqrt(l)) / 2)\n",
    "        scale_x = 2 * std_dev * jnp.sqrt(Sigma[0, 0])\n",
    "        scale_y = 2 * std_dev * jnp.sqrt(Sigma[1, 1])\n",
    "        scale = transforms.Affine2D().rotate_deg(45).scale(scale_x, scale_y)\n",
    "        ellipse.set_transform(scale.translate(Mu[0], Mu[1]) + ax.transData)\n",
    "        ax.add_patch(ellipse)\n",
    "# household means\n",
    "plt.plot(Eg_mu, Er_mu, \"ko\", mfc=\"white\", lw=1.5)\n",
    "plt.show()"
   ]
  },
  {
   "cell_type": "markdown",
   "metadata": {},
   "source": [
    "### Code 14.35"
   ]
  },
  {
   "cell_type": "code",
   "execution_count": null,
   "metadata": {},
   "outputs": [],
   "source": [
    "predictive = Predictive(\n",
    "    m14_7.sampler.model, m14_7.get_samples(), return_sites=[\"Rho_d\", \"sigma_d\"]\n",
    ")\n",
    "link = predictive(random.PRNGKey(1), **kl_data, link=True)\n",
    "print_summary({k: v.reshape((4, -1) + v.shape[1:]) for k, v in link.items()}, 0.89)"
   ]
  },
  {
   "cell_type": "markdown",
   "metadata": {},
   "source": [
    "### Code 14.36"
   ]
  },
  {
   "cell_type": "code",
   "execution_count": null,
   "metadata": {},
   "outputs": [],
   "source": [
    "predictive = Predictive(m14_7.sampler.model, m14_7.get_samples(), return_sites=[\"d\"])\n",
    "post_d = predictive(random.PRNGKey(1), **kl_data, link=True)[\"d\"]\n",
    "dy1 = jnp.mean(post_d[..., 0], 0)\n",
    "dy2 = jnp.mean(post_d[..., 1], 0)\n",
    "plt.plot(dy1, dy2, \"o\", mfc=\"none\")\n",
    "plt.show()"
   ]
  },
  {
   "cell_type": "markdown",
   "metadata": {},
   "source": [
    "### Code 14.37"
   ]
  },
  {
   "cell_type": "code",
   "execution_count": null,
   "metadata": {},
   "outputs": [],
   "source": [
    "# load the distance matrix\n",
    "islandsDistMatrix = pd.read_csv(\"../data/islandsDistMatrix.csv\", index_col=0)\n",
    "\n",
    "# display (measured in thousands of km)\n",
    "Dmat = islandsDistMatrix\n",
    "Dmat.columns = [\"Ml\", \"Ti\", \"SC\", \"Ya\", \"Fi\", \"Tr\", \"Ch\", \"Mn\", \"To\", \"Ha\"]\n",
    "Dmat.round(1)"
   ]
  },
  {
   "cell_type": "markdown",
   "metadata": {},
   "source": [
    "### Code 14.38"
   ]
  },
  {
   "cell_type": "code",
   "execution_count": null,
   "metadata": {},
   "outputs": [],
   "source": [
    "# linear\n",
    "x = jnp.linspace(0, 4, 101)\n",
    "plt.plot(x, jnp.exp(-1 * x), \"--\")\n",
    "plt.gca().set(xlabel=\"distance\", ylabel=\"correlation\")\n",
    "\n",
    "# squared\n",
    "x = jnp.linspace(0, 4, 101)\n",
    "plt.plot(x, jnp.exp(-1 * x ** 2))\n",
    "plt.show()"
   ]
  },
  {
   "cell_type": "markdown",
   "metadata": {},
   "source": [
    "### Code 14.39"
   ]
  },
  {
   "cell_type": "code",
   "execution_count": null,
   "metadata": {},
   "outputs": [],
   "source": [
    "Kline2 = pd.read_csv(\"../data/Kline2.csv\", sep=\";\")\n",
    "d = Kline2\n",
    "d[\"society\"] = range(1, 11)  # index observations\n",
    "\n",
    "dat_list = dict(\n",
    "    T=d.total_tools.values,\n",
    "    P=d.population.values,\n",
    "    society=d.society.values - 1,\n",
    "    Dmat=islandsDistMatrix.values,\n",
    ")\n",
    "\n",
    "\n",
    "def cov_GPL2(x, sq_eta, sq_rho, sq_sigma):\n",
    "    N = x.shape[0]\n",
    "    K = sq_eta * jnp.exp(-sq_rho * jnp.square(x))\n",
    "    K = ops.index_add(K, jnp.diag_indices(N), sq_sigma)\n",
    "    return K\n",
    "\n",
    "\n",
    "def model(Dmat, P, society, T):\n",
    "    a = numpyro.sample(\"a\", dist.Exponential(1))\n",
    "    b = numpyro.sample(\"b\", dist.Exponential(1))\n",
    "    g = numpyro.sample(\"g\", dist.Exponential(1))\n",
    "    etasq = numpyro.sample(\"etasq\", dist.Exponential(2))\n",
    "    rhosq = numpyro.sample(\"rhosq\", dist.Exponential(0.5))\n",
    "    SIGMA = cov_GPL2(Dmat, etasq, rhosq, 0.01)\n",
    "    k = numpyro.sample(\"k\", dist.MultivariateNormal(0, SIGMA))\n",
    "    lambda_ = a * P ** b / g * jnp.exp(k[society])\n",
    "    numpyro.sample(\"T\", dist.Poisson(lambda_), obs=T)\n",
    "\n",
    "\n",
    "m14_8 = MCMC(NUTS(model), num_warmup=1000, num_samples=1000, num_chains=4)\n",
    "m14_8.run(random.PRNGKey(0), **dat_list)"
   ]
  },
  {
   "cell_type": "markdown",
   "metadata": {},
   "source": [
    "### Code 14.40"
   ]
  },
  {
   "cell_type": "code",
   "execution_count": null,
   "metadata": {},
   "outputs": [],
   "source": [
    "m14_8.print_summary(0.89)"
   ]
  },
  {
   "cell_type": "markdown",
   "metadata": {},
   "source": [
    "### Code 14.41"
   ]
  },
  {
   "cell_type": "code",
   "execution_count": null,
   "metadata": {},
   "outputs": [],
   "source": [
    "post = m14_8.get_samples()\n",
    "\n",
    "# plot the posterior median covariance function\n",
    "plt.subplot(\n",
    "    xlabel=\"distance (thousand km)\", ylabel=\"covariance\", xlim=(0, 10), ylim=(0, 2)\n",
    ")\n",
    "\n",
    "# compute posterior mean covariance\n",
    "x_seq = jnp.linspace(0, 10, 100)\n",
    "pmcov = vmap(lambda x: post[\"etasq\"] * jnp.exp(-post[\"rhosq\"] * x ** 2))(x_seq)\n",
    "pmcov_mu = jnp.mean(pmcov, 1)\n",
    "plt.plot(x_seq, pmcov_mu, lw=2, c=\"k\")\n",
    "\n",
    "# plot 50 functions sampled from posterior\n",
    "x = x_seq\n",
    "for i in range(50):\n",
    "    plt.plot(\n",
    "        x_seq, post[\"etasq\"][i] * jnp.exp(-post[\"rhosq\"][i] * x ** 2), \"k\", alpha=0.15\n",
    "    )"
   ]
  },
  {
   "cell_type": "markdown",
   "metadata": {},
   "source": [
    "### Code 14.42"
   ]
  },
  {
   "cell_type": "code",
   "execution_count": null,
   "metadata": {},
   "outputs": [],
   "source": [
    "# compute posterior median covariance among societies\n",
    "K = jnp.zeros((10, 10))\n",
    "for i in range(10):\n",
    "    for j in range(10):\n",
    "        K = ops.index_update(\n",
    "            K,\n",
    "            ops.index[i, j],\n",
    "            jnp.median(post[\"etasq\"])\n",
    "            * jnp.exp(-jnp.median(post[\"rhosq\"]) * islandsDistMatrix.values[i, j] ** 2),\n",
    "        )\n",
    "K = ops.index_update(K, jnp.diag_indices(10), jnp.median(post[\"etasq\"]) + 0.01)"
   ]
  },
  {
   "cell_type": "markdown",
   "metadata": {},
   "source": [
    "### Code 14.43"
   ]
  },
  {
   "cell_type": "code",
   "execution_count": null,
   "metadata": {},
   "outputs": [],
   "source": [
    "# convert to correlation matrix\n",
    "Rho = jnp.round(K / jnp.sqrt(jnp.outer(jnp.diagonal(K), jnp.diagonal(K))), 2)\n",
    "# add row/col names for convenience\n",
    "Rho = pd.DataFrame(Rho)\n",
    "Rho.columns = [\"Ml\", \"Ti\", \"SC\", \"Ya\", \"Fi\", \"Tr\", \"Ch\", \"Mn\", \"To\", \"Ha\"]\n",
    "Rho.index = Rho.columns\n",
    "Rho"
   ]
  },
  {
   "cell_type": "markdown",
   "metadata": {},
   "source": [
    "### Code 14.44"
   ]
  },
  {
   "cell_type": "code",
   "execution_count": null,
   "metadata": {},
   "outputs": [],
   "source": [
    "# scale point size to logpop\n",
    "psize = d.logpop.values / d.logpop.max()\n",
    "psize = jnp.exp(psize * 1.5) - 2\n",
    "\n",
    "# plot raw data and labels\n",
    "plt.scatter(d.lon2, d.lat, s=(psize ** 2) * 20)\n",
    "plt.gca().set(xlabel=\"longitude\", ylabel=\"latitude\", xlim=(-50, 30))\n",
    "labels = d.culture.values\n",
    "pos = [2, 4, 3, 3, 4, 1, 3, 2, 4, 2]\n",
    "for i in range(len(labels)):\n",
    "    dx = [0, -5, 0, 5][pos[i] - 1]\n",
    "    dy = [-2, 0, 2, 0][pos[i] - 1]\n",
    "    plt.annotate(\n",
    "        labels[i],\n",
    "        (d.lon2[i], d.lat[i]),\n",
    "        (d.lon2[i] + dx, d.lat[i] + dy),\n",
    "        ha=\"center\",\n",
    "        va=\"center\",\n",
    "    )\n",
    "\n",
    "# overlay lines shaded by Rho\n",
    "for i in range(10):\n",
    "    for j in range(10):\n",
    "        if i < j:\n",
    "            plt.plot(\n",
    "                [d.lon2[i], d.lon2[j]],\n",
    "                [d.lat[i], d.lat[j]],\n",
    "                lw=2,\n",
    "                c=\"k\",\n",
    "                alpha=Rho.values[i, j] ** 2,\n",
    "            )\n",
    "plt.show()"
   ]
  },
  {
   "cell_type": "markdown",
   "metadata": {},
   "source": [
    "### Code 14.45"
   ]
  },
  {
   "cell_type": "code",
   "execution_count": null,
   "metadata": {},
   "outputs": [],
   "source": [
    "# compute posterior median relationship, ignoring distance\n",
    "logpop_seq = jnp.linspace(6, 14, num=30)\n",
    "lambda_ = vmap(lambda lp: post[\"a\"] * jnp.exp(lp) ** post[\"b\"] / post[\"g\"])(logpop_seq)\n",
    "lambda_median = jnp.median(lambda_, 1)\n",
    "lambda_PI80 = jnp.percentile(lambda_, q=(10, 90), axis=1)\n",
    "\n",
    "# plot raw data and labels\n",
    "plt.scatter(d.logpop, d.total_tools, s=(psize ** 2) * 20)\n",
    "plt.gca().set(xlabel=\"log population\", ylabel=\"total tools\", xlim=(6, 14), ylim=(0, 74))\n",
    "pos = [4, 3, 4, 2, 2, 1, 4, 4, 4, 2]\n",
    "for i in range(len(labels)):\n",
    "    dx = [0, -0.5, 0, 0.6][pos[i] - 1]\n",
    "    dy = [-2.5, 0, 2.5, 0][pos[i] - 1]\n",
    "    plt.annotate(\n",
    "        labels[i],\n",
    "        (d.logpop[i], d.total_tools[i]),\n",
    "        (d.logpop[i] + dx, d.total_tools[i] + dy),\n",
    "        va=\"center\",\n",
    "        ha=\"center\",\n",
    "        zorder=3,\n",
    "    )\n",
    "\n",
    "# display posterior predictions\n",
    "plt.plot(logpop_seq, lambda_median, \"k--\", lw=1)\n",
    "plt.plot(logpop_seq, lambda_PI80[0], \"k--\", lw=1)\n",
    "plt.plot(logpop_seq, lambda_PI80[1], \"k--\", lw=1)\n",
    "\n",
    "# overlay correlations\n",
    "for i in range(10):\n",
    "    for j in range(10):\n",
    "        if i < j:\n",
    "            plt.plot(\n",
    "                [d.logpop[i], d.logpop[j]],\n",
    "                [d.total_tools[i], d.total_tools[j]],\n",
    "                lw=2,\n",
    "                c=\"k\",\n",
    "                alpha=Rho.values[i, j] ** 2,\n",
    "            )"
   ]
  },
  {
   "cell_type": "markdown",
   "metadata": {},
   "source": [
    "### Code 14.46"
   ]
  },
  {
   "cell_type": "code",
   "execution_count": null,
   "metadata": {},
   "outputs": [],
   "source": [
    "def model(Dmat, P, society, T):\n",
    "    a = numpyro.sample(\"a\", dist.Exponential(1))\n",
    "    b = numpyro.sample(\"b\", dist.Exponential(1))\n",
    "    g = numpyro.sample(\"g\", dist.Exponential(1))\n",
    "    etasq = numpyro.sample(\"etasq\", dist.Exponential(2))\n",
    "    rhosq = numpyro.sample(\"rhosq\", dist.Exponential(0.5))\n",
    "\n",
    "    # non-centered Gaussian Process prior\n",
    "    SIGMA = cov_GPL2(Dmat, etasq, rhosq, 0.01)\n",
    "    L_SIGMA = jnp.linalg.cholesky(SIGMA)\n",
    "    z = numpyro.sample(\"z\", dist.Normal(0, 1).expand([10]))\n",
    "    k = (L_SIGMA @ z[..., None])[..., 0]\n",
    "\n",
    "    lambda_ = a * P ** b / g * jnp.exp(k[society])\n",
    "    numpyro.sample(\"T\", dist.Poisson(lambda_), obs=T)\n",
    "\n",
    "\n",
    "m14_8nc = MCMC(NUTS(model), num_warmup=1000, num_samples=1000, num_chains=4)\n",
    "m14_8nc.run(random.PRNGKey(0), **dat_list)"
   ]
  },
  {
   "cell_type": "markdown",
   "metadata": {},
   "source": [
    "### Code 14.47"
   ]
  },
  {
   "cell_type": "markdown",
   "metadata": {},
   "source": [
    "```python\n",
    "# conda install -c etetoolkit ete3\n",
    "from ete3 import Tree, TreeStyle\n",
    "\n",
    "Primates301_nex = Tree(\"../data/Primates301.newick\")\n",
    "\n",
    "circular_style = TreeStyle()\n",
    "circular_style.mode = \"c\"\n",
    "Primates301_nex.render(\"../data/Primates301.png\", tree_style=circular_style)\n",
    "```"
   ]
  },
  {
   "cell_type": "code",
   "execution_count": null,
   "metadata": {},
   "outputs": [],
   "source": [
    "Primates301 = pd.read_csv(\"../data/Primates301.csv\", sep=\";\")\n",
    "\n",
    "# plot it\n",
    "Image(\"../data/Primates301.png\")"
   ]
  },
  {
   "cell_type": "markdown",
   "metadata": {},
   "source": [
    "### Code 14.48"
   ]
  },
  {
   "cell_type": "code",
   "execution_count": null,
   "metadata": {},
   "outputs": [],
   "source": [
    "d = Primates301\n",
    "d[\"name\"] = d.name\n",
    "dpyro = d.loc[d[[\"group_size\", \"body\", \"brain\"]].dropna().index]\n",
    "spp_obs = dpyro.name"
   ]
  },
  {
   "cell_type": "markdown",
   "metadata": {},
   "source": [
    "### Code 14.49"
   ]
  },
  {
   "cell_type": "code",
   "execution_count": null,
   "metadata": {},
   "outputs": [],
   "source": [
    "dat_list = dict(\n",
    "    N_spp=dpyro.shape[0],\n",
    "    M=dpyro.body.apply(math.log).pipe(lambda x: (x - x.mean()) / x.std()).values,\n",
    "    B=dpyro.brain.apply(math.log).pipe(lambda x: (x - x.mean()) / x.std()).values,\n",
    "    G=dpyro.group_size.apply(math.log).pipe(lambda x: (x - x.mean()) / x.std()).values,\n",
    "    Imat=jnp.identity(dpyro.shape[0]),\n",
    ")\n",
    "\n",
    "\n",
    "def model(N_spp, M, B, Imat, G):\n",
    "    a = numpyro.sample(\"a\", dist.Normal(0, 1))\n",
    "    bM = numpyro.sample(\"bM\", dist.Normal(0, 0.5))\n",
    "    bG = numpyro.sample(\"bG\", dist.Normal(0, 0.5))\n",
    "    sigma_sq = numpyro.sample(\"sigma_sq\", dist.Exponential(1))\n",
    "    mu = a + bM * M + bG * G\n",
    "    SIGMA_sqrt = jnp.sqrt(sigma_sq)\n",
    "    numpyro.sample(\"B\", dist.Normal(mu, SIGMA_sqrt), obs=B)\n",
    "\n",
    "\n",
    "m14_9 = MCMC(NUTS(model), 500, 500, num_chains=4)\n",
    "m14_9.run(random.PRNGKey(0), **dat_list)\n",
    "m14_9.print_summary(0.89)"
   ]
  },
  {
   "cell_type": "markdown",
   "metadata": {},
   "source": [
    "### Code 14.50"
   ]
  },
  {
   "cell_type": "markdown",
   "metadata": {},
   "source": [
    "```python\n",
    "tree_trimmed = Primates301_nex.copy()\n",
    "tree_trimmed.prune(spp_obs)\n",
    "```"
   ]
  },
  {
   "cell_type": "code",
   "execution_count": null,
   "metadata": {},
   "outputs": [],
   "source": [
    "V = pd.read_csv(\"../data/Primates301_vcov_matrix.csv\", index_col=0)\n",
    "Dmat = pd.read_csv(\"../data/Primates301_distance_matrix.csv\", index_col=0)\n",
    "plt.figure(figsize=(8, 6))\n",
    "plt.plot(Dmat.values.reshape(-1), V.values.reshape(-1), \"o\", mfc=\"none\")\n",
    "plt.gca().set(xlabel=\"phylogenetic distance\", ylabel=\"covariance\")\n",
    "set_matplotlib_formats(\"png\")"
   ]
  },
  {
   "cell_type": "markdown",
   "metadata": {},
   "source": [
    "### Code 14.51"
   ]
  },
  {
   "cell_type": "code",
   "execution_count": null,
   "metadata": {},
   "outputs": [],
   "source": [
    "# put species in right order\n",
    "dat_list[\"V\"] = V.loc[spp_obs, spp_obs].values\n",
    "# convert to correlation matrix\n",
    "dat_list[\"R\"] = dat_list[\"V\"] / jnp.max(V.values)\n",
    "\n",
    "# Brownian motion model\n",
    "def model(M, B, R, G):\n",
    "    a = numpyro.sample(\"a\", dist.Normal(0, 1))\n",
    "    bM = numpyro.sample(\"bM\", dist.Normal(0, 0.5))\n",
    "    bG = numpyro.sample(\"bG\", dist.Normal(0, 0.5))\n",
    "    sigma_sq = numpyro.sample(\"sigma_sq\", dist.Exponential(1))\n",
    "    mu = a + bM * M + bG * G\n",
    "    SIGMA = R * sigma_sq\n",
    "    numpyro.sample(\"B\", dist.MultivariateNormal(mu, SIGMA), obs=B)\n",
    "\n",
    "\n",
    "m14_10 = MCMC(NUTS(model), 500, 500, num_chains=4, chain_method=\"sequential\")\n",
    "m14_10.run(random.PRNGKey(0), **{k: v for k, v in dat_list.items() if k in \"MBRG\"})\n",
    "m14_10.print_summary(0.89)"
   ]
  },
  {
   "cell_type": "markdown",
   "metadata": {},
   "source": [
    "### Code 14.52"
   ]
  },
  {
   "cell_type": "code",
   "execution_count": null,
   "metadata": {},
   "outputs": [],
   "source": [
    "# add scaled and reordered distance matrix\n",
    "dat_list[\"Dmat\"] = Dmat.loc[spp_obs, spp_obs].values / jnp.max(Dmat.values)\n",
    "\n",
    "\n",
    "def model(M, B, Dmat, G):\n",
    "    a = numpyro.sample(\"a\", dist.Normal(0, 1))\n",
    "    bM = numpyro.sample(\"bM\", dist.Normal(0, 0.5))\n",
    "    bG = numpyro.sample(\"bG\", dist.Normal(0, 0.5))\n",
    "    etasq = numpyro.sample(\"etasq\", dist.Exponential(1))\n",
    "    rhosq = numpyro.sample(\"rhosq\", dist.Exponential(1))\n",
    "    SIGMA = cov_GPL2(Dmat, etasq, rhosq, 0.01)\n",
    "    mu = a + bM * M + bG * G\n",
    "    numpyro.sample(\"B\", dist.MultivariateNormal(mu, SIGMA), obs=B)\n",
    "\n",
    "\n",
    "m14_11 = MCMC(NUTS(model), 500, 500, num_chains=4, chain_method=\"sequential\")\n",
    "m14_11.run(\n",
    "    random.PRNGKey(0), dat_list[\"M\"], dat_list[\"B\"], dat_list[\"Dmat\"], dat_list[\"G\"]\n",
    ")\n",
    "m14_11.print_summary(0.89)"
   ]
  },
  {
   "cell_type": "markdown",
   "metadata": {},
   "source": [
    "### Code 14.53"
   ]
  },
  {
   "cell_type": "code",
   "execution_count": null,
   "metadata": {},
   "outputs": [],
   "source": [
    "post = m14_11.get_samples()\n",
    "plt.subplot(\n",
    "    xlim=(0, jnp.max(dat_list[\"Dmat\"]).item()),\n",
    "    ylim=(0, 5),\n",
    "    xlabel=\"phylogenetic distance\",\n",
    "    ylabel=\"covariance\",\n",
    ")\n",
    "x = jnp.linspace(0, jnp.max(dat_list[\"Dmat\"]), 101)\n",
    "for i in range(50):\n",
    "    plt.plot(x, post[\"etasq\"][i] * jnp.exp(-post[\"rhosq\"][i] * x ** 2), \"gray\")\n",
    "if \"SVG\" in os.environ:\n",
    "    set_matplotlib_formats(\"svg\")"
   ]
  },
  {
   "cell_type": "markdown",
   "metadata": {},
   "source": [
    "### Code 14.54"
   ]
  },
  {
   "cell_type": "code",
   "execution_count": null,
   "metadata": {},
   "outputs": [],
   "source": [
    "sa = 1\n",
    "sb = 0.5\n",
    "rho = -0.7\n",
    "S = jnp.array([[sa ** 2, a * sb * rho], [a * sb * rho, sb ** 2]])"
   ]
  }
 ],
 "metadata": {
  "kernelspec": {
   "display_name": "Python 3",
   "language": "python",
   "name": "python3"
  },
  "language_info": {
   "codemirror_mode": {
    "name": "ipython",
    "version": 3
   },
   "file_extension": ".py",
   "mimetype": "text/x-python",
   "name": "python",
   "nbconvert_exporter": "python",
   "pygments_lexer": "ipython3",
   "version": "3.8.5"
  }
 },
 "nbformat": 4,
 "nbformat_minor": 4
}
